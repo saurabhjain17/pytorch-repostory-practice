{
 "cells": [
  {
   "cell_type": "code",
   "execution_count": 1,
   "id": "5367851d",
   "metadata": {
    "_cell_guid": "b1076dfc-b9ad-4769-8c92-a6c4dae69d19",
    "_uuid": "8f2839f25d086af736a60e9eeb907d3b93b6e0e5",
    "execution": {
     "iopub.execute_input": "2022-10-09T08:19:34.745072Z",
     "iopub.status.busy": "2022-10-09T08:19:34.744341Z",
     "iopub.status.idle": "2022-10-09T08:19:34.755159Z",
     "shell.execute_reply": "2022-10-09T08:19:34.754155Z"
    },
    "papermill": {
     "duration": 0.024515,
     "end_time": "2022-10-09T08:19:34.757352",
     "exception": false,
     "start_time": "2022-10-09T08:19:34.732837",
     "status": "completed"
    },
    "tags": []
   },
   "outputs": [],
   "source": [
    "# This Python 3 environment comes with many helpful analytics libraries installed\n",
    "# It is defined by the kaggle/python Docker image: https://github.com/kaggle/docker-python\n",
    "# For example, here's several helpful packages to load\n",
    "\n",
    "import numpy as np # linear algebra\n",
    "import pandas as pd # data processing, CSV file I/O (e.g. pd.read_csv)\n",
    "\n",
    "# Input data files are available in the read-only \"../input/\" directory\n",
    "# For example, running this (by clicking run or pressing Shift+Enter) will list all files under the input directory\n",
    "\n",
    "import os\n",
    "for dirname, _, filenames in os.walk('/kaggle/input'):\n",
    "    for filename in filenames:\n",
    "        print(os.path.join(dirname, filename))\n",
    "\n",
    "# You can write up to 20GB to the current directory (/kaggle/working/) that gets preserved as output when you create a version using \"Save & Run All\" \n",
    "# You can also write temporary files to /kaggle/temp/, but they won't be saved outside of the current session"
   ]
  },
  {
   "cell_type": "code",
   "execution_count": 2,
   "id": "95feed7d",
   "metadata": {
    "execution": {
     "iopub.execute_input": "2022-10-09T08:19:34.775914Z",
     "iopub.status.busy": "2022-10-09T08:19:34.775552Z",
     "iopub.status.idle": "2022-10-09T08:19:36.549136Z",
     "shell.execute_reply": "2022-10-09T08:19:36.547450Z"
    },
    "papermill": {
     "duration": 1.786338,
     "end_time": "2022-10-09T08:19:36.552534",
     "exception": false,
     "start_time": "2022-10-09T08:19:34.766196",
     "status": "completed"
    },
    "tags": []
   },
   "outputs": [],
   "source": [
    "import torch\n",
    "import torchvision\n",
    "from torchvision.datasets import MNIST\n",
    "from torch import optim\n",
    "import torchvision.transforms as transforms"
   ]
  },
  {
   "cell_type": "code",
   "execution_count": 3,
   "id": "a774002c",
   "metadata": {
    "execution": {
     "iopub.execute_input": "2022-10-09T08:19:36.578264Z",
     "iopub.status.busy": "2022-10-09T08:19:36.574935Z",
     "iopub.status.idle": "2022-10-09T08:19:40.035866Z",
     "shell.execute_reply": "2022-10-09T08:19:40.034773Z"
    },
    "papermill": {
     "duration": 3.474712,
     "end_time": "2022-10-09T08:19:40.038403",
     "exception": false,
     "start_time": "2022-10-09T08:19:36.563691",
     "status": "completed"
    },
    "tags": []
   },
   "outputs": [
    {
     "name": "stdout",
     "output_type": "stream",
     "text": [
      "Downloading http://yann.lecun.com/exdb/mnist/train-images-idx3-ubyte.gz\n",
      "Downloading http://yann.lecun.com/exdb/mnist/train-images-idx3-ubyte.gz to data/MNIST/raw/train-images-idx3-ubyte.gz\n"
     ]
    },
    {
     "data": {
      "application/vnd.jupyter.widget-view+json": {
       "model_id": "d80d815506b240c69d432fb540ddda79",
       "version_major": 2,
       "version_minor": 0
      },
      "text/plain": [
       "  0%|          | 0/9912422 [00:00<?, ?it/s]"
      ]
     },
     "metadata": {},
     "output_type": "display_data"
    },
    {
     "name": "stdout",
     "output_type": "stream",
     "text": [
      "Extracting data/MNIST/raw/train-images-idx3-ubyte.gz to data/MNIST/raw\n",
      "\n",
      "Downloading http://yann.lecun.com/exdb/mnist/train-labels-idx1-ubyte.gz\n",
      "Downloading http://yann.lecun.com/exdb/mnist/train-labels-idx1-ubyte.gz to data/MNIST/raw/train-labels-idx1-ubyte.gz\n"
     ]
    },
    {
     "data": {
      "application/vnd.jupyter.widget-view+json": {
       "model_id": "a3e2f869169b4ab2820898cf801e2fcf",
       "version_major": 2,
       "version_minor": 0
      },
      "text/plain": [
       "  0%|          | 0/28881 [00:00<?, ?it/s]"
      ]
     },
     "metadata": {},
     "output_type": "display_data"
    },
    {
     "name": "stdout",
     "output_type": "stream",
     "text": [
      "Extracting data/MNIST/raw/train-labels-idx1-ubyte.gz to data/MNIST/raw\n",
      "\n",
      "Downloading http://yann.lecun.com/exdb/mnist/t10k-images-idx3-ubyte.gz\n",
      "Downloading http://yann.lecun.com/exdb/mnist/t10k-images-idx3-ubyte.gz to data/MNIST/raw/t10k-images-idx3-ubyte.gz\n"
     ]
    },
    {
     "data": {
      "application/vnd.jupyter.widget-view+json": {
       "model_id": "5a02c350db934a13aed00061740fe9b8",
       "version_major": 2,
       "version_minor": 0
      },
      "text/plain": [
       "  0%|          | 0/1648877 [00:00<?, ?it/s]"
      ]
     },
     "metadata": {},
     "output_type": "display_data"
    },
    {
     "name": "stdout",
     "output_type": "stream",
     "text": [
      "Extracting data/MNIST/raw/t10k-images-idx3-ubyte.gz to data/MNIST/raw\n",
      "\n",
      "Downloading http://yann.lecun.com/exdb/mnist/t10k-labels-idx1-ubyte.gz\n",
      "Downloading http://yann.lecun.com/exdb/mnist/t10k-labels-idx1-ubyte.gz to data/MNIST/raw/t10k-labels-idx1-ubyte.gz\n"
     ]
    },
    {
     "data": {
      "application/vnd.jupyter.widget-view+json": {
       "model_id": "32e999612e1542b4a89354ba8b72ae76",
       "version_major": 2,
       "version_minor": 0
      },
      "text/plain": [
       "  0%|          | 0/4542 [00:00<?, ?it/s]"
      ]
     },
     "metadata": {},
     "output_type": "display_data"
    },
    {
     "name": "stdout",
     "output_type": "stream",
     "text": [
      "Extracting data/MNIST/raw/t10k-labels-idx1-ubyte.gz to data/MNIST/raw\n",
      "\n"
     ]
    },
    {
     "data": {
      "text/plain": [
       "60000"
      ]
     },
     "execution_count": 3,
     "metadata": {},
     "output_type": "execute_result"
    }
   ],
   "source": [
    "dataset=MNIST(root=\"data/\",download=True)\n",
    "len(dataset)"
   ]
  },
  {
   "cell_type": "code",
   "execution_count": 4,
   "id": "4824899f",
   "metadata": {
    "execution": {
     "iopub.execute_input": "2022-10-09T08:19:40.059919Z",
     "iopub.status.busy": "2022-10-09T08:19:40.059556Z",
     "iopub.status.idle": "2022-10-09T08:19:40.065081Z",
     "shell.execute_reply": "2022-10-09T08:19:40.063997Z"
    },
    "papermill": {
     "duration": 0.018979,
     "end_time": "2022-10-09T08:19:40.067549",
     "exception": false,
     "start_time": "2022-10-09T08:19:40.048570",
     "status": "completed"
    },
    "tags": []
   },
   "outputs": [
    {
     "name": "stdout",
     "output_type": "stream",
     "text": [
      "(<PIL.Image.Image image mode=L size=28x28 at 0x7F0C778915D0>, 5)\n"
     ]
    }
   ],
   "source": [
    "print(dataset[0])"
   ]
  },
  {
   "cell_type": "code",
   "execution_count": 5,
   "id": "d02bac56",
   "metadata": {
    "execution": {
     "iopub.execute_input": "2022-10-09T08:19:40.090381Z",
     "iopub.status.busy": "2022-10-09T08:19:40.089697Z",
     "iopub.status.idle": "2022-10-09T08:19:40.104562Z",
     "shell.execute_reply": "2022-10-09T08:19:40.103558Z"
    },
    "papermill": {
     "duration": 0.028016,
     "end_time": "2022-10-09T08:19:40.106756",
     "exception": false,
     "start_time": "2022-10-09T08:19:40.078740",
     "status": "completed"
    },
    "tags": []
   },
   "outputs": [
    {
     "data": {
      "text/plain": [
       "10000"
      ]
     },
     "execution_count": 5,
     "metadata": {},
     "output_type": "execute_result"
    }
   ],
   "source": [
    "test_dataset=MNIST(root=\"data/\",train=False,transform=transforms.ToTensor())\n",
    "len(test_dataset)"
   ]
  },
  {
   "cell_type": "code",
   "execution_count": 6,
   "id": "fb855681",
   "metadata": {
    "execution": {
     "iopub.execute_input": "2022-10-09T08:19:40.128614Z",
     "iopub.status.busy": "2022-10-09T08:19:40.127836Z",
     "iopub.status.idle": "2022-10-09T08:19:40.133830Z",
     "shell.execute_reply": "2022-10-09T08:19:40.133039Z"
    },
    "papermill": {
     "duration": 0.019292,
     "end_time": "2022-10-09T08:19:40.136102",
     "exception": false,
     "start_time": "2022-10-09T08:19:40.116810",
     "status": "completed"
    },
    "tags": []
   },
   "outputs": [],
   "source": [
    "import matplotlib.pyplot as plt\n",
    "%matplotlib inline"
   ]
  },
  {
   "cell_type": "code",
   "execution_count": 7,
   "id": "c1591ae1",
   "metadata": {
    "execution": {
     "iopub.execute_input": "2022-10-09T08:19:40.157497Z",
     "iopub.status.busy": "2022-10-09T08:19:40.156923Z",
     "iopub.status.idle": "2022-10-09T08:19:40.366213Z",
     "shell.execute_reply": "2022-10-09T08:19:40.365425Z"
    },
    "papermill": {
     "duration": 0.222393,
     "end_time": "2022-10-09T08:19:40.368291",
     "exception": false,
     "start_time": "2022-10-09T08:19:40.145898",
     "status": "completed"
    },
    "tags": []
   },
   "outputs": [
    {
     "name": "stdout",
     "output_type": "stream",
     "text": [
      "Label: 5\n"
     ]
    },
    {
     "data": {
      "image/png": "[encoded data removed]",
      "text/plain": [
       "<Figure size 432x288 with 1 Axes>"
      ]
     },
     "metadata": {
      "needs_background": "light"
     },
     "output_type": "display_data"
    }
   ],
   "source": [
    "image,label=dataset[0]\n",
    "plt.imshow(image,cmap=\"gray\")\n",
    "print(\"Label:\",label)"
   ]
  },
  {
   "cell_type": "code",
   "execution_count": 8,
   "id": "0e0cc2e6",
   "metadata": {
    "execution": {
     "iopub.execute_input": "2022-10-09T08:19:40.389753Z",
     "iopub.status.busy": "2022-10-09T08:19:40.389384Z",
     "iopub.status.idle": "2022-10-09T08:19:40.477936Z",
     "shell.execute_reply": "2022-10-09T08:19:40.476719Z"
    },
    "papermill": {
     "duration": 0.102062,
     "end_time": "2022-10-09T08:19:40.480394",
     "exception": false,
     "start_time": "2022-10-09T08:19:40.378332",
     "status": "completed"
    },
    "tags": []
   },
   "outputs": [
    {
     "name": "stdout",
     "output_type": "stream",
     "text": [
      "torch.Size([1, 28, 28])\n"
     ]
    }
   ],
   "source": [
    "import torchvision.transforms as transforms\n",
    "dataset=MNIST(root=\"data/\",train=True,transform=transforms.ToTensor())\n",
    "img_tensor,label=dataset[0]\n",
    "print(img_tensor.shape)"
   ]
  },
  {
   "cell_type": "code",
   "execution_count": 9,
   "id": "5399ad29",
   "metadata": {
    "execution": {
     "iopub.execute_input": "2022-10-09T08:19:40.502274Z",
     "iopub.status.busy": "2022-10-09T08:19:40.501897Z",
     "iopub.status.idle": "2022-10-09T08:19:40.685231Z",
     "shell.execute_reply": "2022-10-09T08:19:40.684444Z"
    },
    "papermill": {
     "duration": 0.197119,
     "end_time": "2022-10-09T08:19:40.687624",
     "exception": false,
     "start_time": "2022-10-09T08:19:40.490505",
     "status": "completed"
    },
    "tags": []
   },
   "outputs": [
    {
     "data": {
      "text/plain": [
       "<matplotlib.image.AxesImage at 0x7f0c778915d0>"
      ]
     },
     "execution_count": 9,
     "metadata": {},
     "output_type": "execute_result"
    },
    {
     "data": {
      "image/png": "[encoded data removed]",
      "text/plain": [
       "<Figure size 432x288 with 1 Axes>"
      ]
     },
     "metadata": {
      "needs_background": "light"
     },
     "output_type": "display_data"
    }
   ],
   "source": [
    "plt.imshow(img_tensor[0],cmap=\"gray\")"
   ]
  },
  {
   "cell_type": "code",
   "execution_count": 10,
   "id": "13330017",
   "metadata": {
    "execution": {
     "iopub.execute_input": "2022-10-09T08:19:40.710594Z",
     "iopub.status.busy": "2022-10-09T08:19:40.709662Z",
     "iopub.status.idle": "2022-10-09T08:19:40.715159Z",
     "shell.execute_reply": "2022-10-09T08:19:40.714441Z"
    },
    "papermill": {
     "duration": 0.019133,
     "end_time": "2022-10-09T08:19:40.717238",
     "exception": false,
     "start_time": "2022-10-09T08:19:40.698105",
     "status": "completed"
    },
    "tags": []
   },
   "outputs": [],
   "source": [
    "def split_indices(n,val_pct):\n",
    "    n_val=int(val_pct*n)\n",
    "    idx=np.random.permutation(n)\n",
    "    return idx[n_val:],idx[:n_val]"
   ]
  },
  {
   "cell_type": "code",
   "execution_count": 11,
   "id": "55cc9356",
   "metadata": {
    "execution": {
     "iopub.execute_input": "2022-10-09T08:19:40.739701Z",
     "iopub.status.busy": "2022-10-09T08:19:40.738746Z",
     "iopub.status.idle": "2022-10-09T08:19:40.745795Z",
     "shell.execute_reply": "2022-10-09T08:19:40.745065Z"
    },
    "papermill": {
     "duration": 0.020364,
     "end_time": "2022-10-09T08:19:40.747906",
     "exception": false,
     "start_time": "2022-10-09T08:19:40.727542",
     "status": "completed"
    },
    "tags": []
   },
   "outputs": [],
   "source": [
    "train_indices,val_indices=split_indices(len(dataset),val_pct=0.2)"
   ]
  },
  {
   "cell_type": "code",
   "execution_count": 12,
   "id": "cab720e6",
   "metadata": {
    "execution": {
     "iopub.execute_input": "2022-10-09T08:19:40.769982Z",
     "iopub.status.busy": "2022-10-09T08:19:40.769614Z",
     "iopub.status.idle": "2022-10-09T08:19:40.774290Z",
     "shell.execute_reply": "2022-10-09T08:19:40.773241Z"
    },
    "papermill": {
     "duration": 0.018326,
     "end_time": "2022-10-09T08:19:40.776448",
     "exception": false,
     "start_time": "2022-10-09T08:19:40.758122",
     "status": "completed"
    },
    "tags": []
   },
   "outputs": [],
   "source": [
    "from torch.utils.data.sampler import SubsetRandomSampler\n",
    "from torch.utils.data.dataloader import DataLoader"
   ]
  },
  {
   "cell_type": "code",
   "execution_count": 13,
   "id": "d1b5aa75",
   "metadata": {
    "execution": {
     "iopub.execute_input": "2022-10-09T08:19:40.798980Z",
     "iopub.status.busy": "2022-10-09T08:19:40.798284Z",
     "iopub.status.idle": "2022-10-09T08:19:40.803390Z",
     "shell.execute_reply": "2022-10-09T08:19:40.802640Z"
    },
    "papermill": {
     "duration": 0.018781,
     "end_time": "2022-10-09T08:19:40.805522",
     "exception": false,
     "start_time": "2022-10-09T08:19:40.786741",
     "status": "completed"
    },
    "tags": []
   },
   "outputs": [],
   "source": [
    "batch_size=100\n",
    "train_sampler=SubsetRandomSampler(train_indices)\n",
    "train_loader=DataLoader(dataset,batch_size,sampler=train_sampler)"
   ]
  },
  {
   "cell_type": "code",
   "execution_count": 14,
   "id": "e2db07df",
   "metadata": {
    "execution": {
     "iopub.execute_input": "2022-10-09T08:19:40.827651Z",
     "iopub.status.busy": "2022-10-09T08:19:40.827275Z",
     "iopub.status.idle": "2022-10-09T08:19:40.832216Z",
     "shell.execute_reply": "2022-10-09T08:19:40.831465Z"
    },
    "papermill": {
     "duration": 0.018486,
     "end_time": "2022-10-09T08:19:40.834311",
     "exception": false,
     "start_time": "2022-10-09T08:19:40.815825",
     "status": "completed"
    },
    "tags": []
   },
   "outputs": [],
   "source": [
    "\n",
    "val_sampler=SubsetRandomSampler(val_indices)\n",
    "val_loader=DataLoader(dataset,batch_size,sampler=val_sampler)"
   ]
  },
  {
   "cell_type": "code",
   "execution_count": 15,
   "id": "994fd9e6",
   "metadata": {
    "execution": {
     "iopub.execute_input": "2022-10-09T08:19:40.856327Z",
     "iopub.status.busy": "2022-10-09T08:19:40.855957Z",
     "iopub.status.idle": "2022-10-09T08:19:40.860520Z",
     "shell.execute_reply": "2022-10-09T08:19:40.859468Z"
    },
    "papermill": {
     "duration": 0.018099,
     "end_time": "2022-10-09T08:19:40.862681",
     "exception": false,
     "start_time": "2022-10-09T08:19:40.844582",
     "status": "completed"
    },
    "tags": []
   },
   "outputs": [],
   "source": [
    "import torch.nn as nn\n",
    "input_size=28*28\n",
    "num_classes=10"
   ]
  },
  {
   "cell_type": "code",
   "execution_count": 16,
   "id": "a1304929",
   "metadata": {
    "execution": {
     "iopub.execute_input": "2022-10-09T08:19:40.885100Z",
     "iopub.status.busy": "2022-10-09T08:19:40.884721Z",
     "iopub.status.idle": "2022-10-09T08:19:40.889880Z",
     "shell.execute_reply": "2022-10-09T08:19:40.888640Z"
    },
    "papermill": {
     "duration": 0.019063,
     "end_time": "2022-10-09T08:19:40.892143",
     "exception": false,
     "start_time": "2022-10-09T08:19:40.873080",
     "status": "completed"
    },
    "tags": []
   },
   "outputs": [],
   "source": [
    "def get_default_device():\n",
    "    if torch.cuda.is_available():\n",
    "        return torch.device(\"cuda\")\n",
    "    else:\n",
    "        return torch.device(\"cpu\")"
   ]
  },
  {
   "cell_type": "code",
   "execution_count": 17,
   "id": "4a62b5cd",
   "metadata": {
    "execution": {
     "iopub.execute_input": "2022-10-09T08:19:40.914748Z",
     "iopub.status.busy": "2022-10-09T08:19:40.914305Z",
     "iopub.status.idle": "2022-10-09T08:19:40.920425Z",
     "shell.execute_reply": "2022-10-09T08:19:40.919435Z"
    },
    "papermill": {
     "duration": 0.019847,
     "end_time": "2022-10-09T08:19:40.922430",
     "exception": false,
     "start_time": "2022-10-09T08:19:40.902583",
     "status": "completed"
    },
    "tags": []
   },
   "outputs": [],
   "source": [
    "device=get_default_device()\n",
    "def to_device(data,device):\n",
    "    if isinstance(data,(list,tuple)):\n",
    "        return [to_device(x,device) for x in data]\n",
    "    else:\n",
    "        return data.to(device,non_blocking=True)\n",
    "  "
   ]
  },
  {
   "cell_type": "code",
   "execution_count": 18,
   "id": "08353996",
   "metadata": {
    "execution": {
     "iopub.execute_input": "2022-10-09T08:19:40.945566Z",
     "iopub.status.busy": "2022-10-09T08:19:40.944829Z",
     "iopub.status.idle": "2022-10-09T08:19:40.951488Z",
     "shell.execute_reply": "2022-10-09T08:19:40.950631Z"
    },
    "papermill": {
     "duration": 0.020566,
     "end_time": "2022-10-09T08:19:40.953449",
     "exception": false,
     "start_time": "2022-10-09T08:19:40.932883",
     "status": "completed"
    },
    "tags": []
   },
   "outputs": [],
   "source": [
    "class DeviceDataLoader():\n",
    "    def __init__(self,dl,device):\n",
    "        self.dl=dl\n",
    "        self.device=device\n",
    "    def __iter__(self):\n",
    "        for b in self.dl:\n",
    "            yield to_device(b,self.device)\n",
    "    def __len__(self):\n",
    "        return len(self.dl)"
   ]
  },
  {
   "cell_type": "code",
   "execution_count": 19,
   "id": "b2fddcfc",
   "metadata": {
    "execution": {
     "iopub.execute_input": "2022-10-09T08:19:40.975936Z",
     "iopub.status.busy": "2022-10-09T08:19:40.975287Z",
     "iopub.status.idle": "2022-10-09T08:19:40.982071Z",
     "shell.execute_reply": "2022-10-09T08:19:40.981307Z"
    },
    "papermill": {
     "duration": 0.020196,
     "end_time": "2022-10-09T08:19:40.984017",
     "exception": false,
     "start_time": "2022-10-09T08:19:40.963821",
     "status": "completed"
    },
    "tags": []
   },
   "outputs": [],
   "source": [
    "import torch.nn.functional as F\n",
    "class DigitFind(nn.Module):\n",
    "    def __init__(self):\n",
    "        super().__init__()\n",
    "        self.fx1=nn.Linear(input_size,128)\n",
    "        self.fx2=nn.Linear(128,10)\n",
    "        self.dropout=nn.Dropout(0.2)\n",
    "        \n",
    "    def forward(self,xb):\n",
    "        xb=xb.reshape(-1,784)\n",
    "        out1=self.dropout(F.relu(self.fx1(xb)))\n",
    "        out2=self.fx2(out1)\n",
    "        return out2\n",
    "        "
   ]
  },
  {
   "cell_type": "code",
   "execution_count": 20,
   "id": "201585df",
   "metadata": {
    "execution": {
     "iopub.execute_input": "2022-10-09T08:19:41.006893Z",
     "iopub.status.busy": "2022-10-09T08:19:41.006133Z",
     "iopub.status.idle": "2022-10-09T08:19:41.010542Z",
     "shell.execute_reply": "2022-10-09T08:19:41.009688Z"
    },
    "papermill": {
     "duration": 0.018106,
     "end_time": "2022-10-09T08:19:41.012631",
     "exception": false,
     "start_time": "2022-10-09T08:19:40.994525",
     "status": "completed"
    },
    "tags": []
   },
   "outputs": [],
   "source": [
    "train_loader=DeviceDataLoader(train_loader,device)\n",
    "val_loader=DeviceDataLoader(val_loader,device)"
   ]
  },
  {
   "cell_type": "code",
   "execution_count": 21,
   "id": "7f87bb1c",
   "metadata": {
    "execution": {
     "iopub.execute_input": "2022-10-09T08:19:41.035455Z",
     "iopub.status.busy": "2022-10-09T08:19:41.034751Z",
     "iopub.status.idle": "2022-10-09T08:19:41.265943Z",
     "shell.execute_reply": "2022-10-09T08:19:41.264790Z"
    },
    "papermill": {
     "duration": 0.245472,
     "end_time": "2022-10-09T08:19:41.268550",
     "exception": false,
     "start_time": "2022-10-09T08:19:41.023078",
     "status": "completed"
    },
    "tags": []
   },
   "outputs": [
    {
     "data": {
      "text/plain": [
       "tensor([[ 1.8487e-01, -9.5343e-02,  3.8510e-02, -7.7300e-03,  2.0217e-01,\n",
       "         -3.5067e-02, -2.4598e-02, -1.9192e-01,  1.5857e-02, -2.4705e-01],\n",
       "        [ 1.0384e-01, -6.1225e-02, -1.0216e-01, -1.0490e-02, -1.1512e-01,\n",
       "         -1.9699e-02,  3.1489e-02, -1.5981e-02, -8.1194e-02, -1.0435e-01],\n",
       "        [ 1.6975e-02,  4.9616e-02, -9.6634e-02,  9.5224e-02,  1.2180e-01,\n",
       "         -1.3883e-01,  5.8778e-03, -6.7569e-02, -4.1516e-02, -1.0751e-01],\n",
       "        [ 1.7059e-02,  9.0015e-02, -1.3378e-01, -1.3273e-02, -1.8322e-02,\n",
       "         -4.8202e-02,  9.1755e-03, -1.5382e-01, -3.7723e-02, -2.4921e-01],\n",
       "        [ 4.5279e-02,  6.0987e-02, -3.5965e-02, -1.4812e-01,  1.4769e-01,\n",
       "         -3.2300e-02,  6.8694e-02, -1.5780e-01, -1.0384e-01, -2.2773e-01],\n",
       "        [ 1.4279e-01, -3.0310e-02, -1.3505e-01, -1.3794e-01,  1.0109e-01,\n",
       "         -2.4034e-01,  1.2240e-01, -2.9870e-02, -1.6265e-02, -3.4272e-01],\n",
       "        [ 3.7217e-02,  5.9096e-02, -1.3132e-01, -1.4123e-01, -5.6168e-02,\n",
       "         -3.8804e-02,  7.1269e-02, -9.1078e-02,  4.6721e-03, -1.0189e-01],\n",
       "        [-4.9938e-02, -1.9312e-02, -3.4245e-02, -9.7692e-02, -1.5695e-02,\n",
       "         -5.8181e-02,  6.3313e-02, -1.1368e-01, -1.1972e-01, -1.9171e-01],\n",
       "        [ 1.9778e-01,  1.7151e-01, -1.0073e-01,  6.5446e-02,  4.5124e-03,\n",
       "         -9.9283e-02, -1.9307e-01, -1.2979e-01,  5.6111e-02, -3.9360e-01],\n",
       "        [ 2.1633e-01,  1.3736e-01, -1.4400e-01, -1.6467e-01,  2.9544e-02,\n",
       "         -3.3647e-02, -5.7965e-03, -7.6474e-02, -1.0901e-01, -2.4617e-01],\n",
       "        [ 1.5371e-01,  3.8993e-03, -9.7570e-02, -3.6239e-02,  6.3003e-02,\n",
       "         -8.7690e-02, -8.4605e-02, -1.1195e-01,  8.6489e-03, -2.4978e-01],\n",
       "        [ 1.8326e-01,  9.3927e-02, -8.0127e-02, -1.2954e-02,  3.2054e-02,\n",
       "         -1.7941e-01,  1.4409e-02, -5.0102e-02, -1.6205e-02, -2.3570e-01],\n",
       "        [ 7.4211e-02,  2.8433e-03, -1.0616e-01, -3.7190e-02,  1.3069e-01,\n",
       "         -1.1865e-01,  2.2500e-02, -1.1862e-01, -5.4797e-03, -1.7107e-01],\n",
       "        [ 1.0310e-01,  3.9964e-02, -1.7071e-02, -9.1246e-03,  9.4961e-02,\n",
       "         -1.3691e-01,  4.9854e-02, -1.1725e-01, -7.9478e-02, -1.4156e-01],\n",
       "        [-1.3973e-02,  2.2530e-02,  7.4893e-03, -1.9420e-02,  1.1180e-01,\n",
       "         -9.5477e-02,  6.2156e-03, -1.0567e-01, -6.4820e-02, -1.7869e-01],\n",
       "        [ 2.7935e-02,  8.2217e-02, -5.4963e-02,  1.5047e-02,  1.3176e-01,\n",
       "         -1.9524e-03,  9.8220e-02, -1.6475e-01,  1.3624e-02, -3.2348e-02],\n",
       "        [ 6.0898e-02,  8.4124e-02, -1.0762e-01, -5.4194e-02,  1.6092e-01,\n",
       "         -9.7725e-02,  1.2837e-01, -7.1028e-02,  3.6797e-02, -2.0095e-01],\n",
       "        [ 1.6406e-02,  8.0342e-02,  6.7258e-02, -4.2963e-02,  7.8643e-02,\n",
       "          1.1972e-02, -9.8695e-02, -1.6474e-01,  3.7722e-02, -2.0815e-01],\n",
       "        [ 8.3717e-02,  3.3931e-02, -1.6316e-01, -5.2242e-02,  9.3949e-02,\n",
       "         -4.9154e-02, -5.1175e-02, -7.8120e-02, -6.4969e-02, -1.6116e-01],\n",
       "        [ 1.3368e-01, -1.4490e-02, -9.6556e-02, -3.5728e-02,  2.0205e-01,\n",
       "         -1.1333e-01, -4.4774e-02, -1.7131e-01, -1.4070e-01, -2.4453e-01],\n",
       "        [ 7.2009e-02,  7.3411e-02, -7.2570e-02,  5.1263e-02,  1.5768e-01,\n",
       "         -7.4116e-02,  1.9743e-02, -1.0951e-01, -1.4427e-01, -1.9034e-01],\n",
       "        [-8.2488e-04, -2.0149e-02, -6.4622e-02,  4.7701e-02,  9.8596e-02,\n",
       "         -1.5204e-01,  6.4455e-02,  5.8646e-02,  2.7451e-02, -7.1502e-02],\n",
       "        [ 3.0293e-02, -1.3475e-02, -2.3842e-02, -6.9402e-02,  2.0890e-01,\n",
       "         -3.8173e-02,  3.5658e-03, -8.3352e-02, -1.1259e-01, -9.3571e-02],\n",
       "        [ 6.3267e-02,  8.1378e-02,  4.4310e-02, -6.3518e-02,  1.3232e-01,\n",
       "         -7.7730e-02, -3.4145e-02, -1.4134e-01,  4.4611e-02, -1.7505e-01],\n",
       "        [ 5.8288e-02,  1.8657e-01,  1.8808e-02, -1.5986e-01,  1.4242e-02,\n",
       "         -4.9709e-02,  2.6880e-02,  3.0819e-02, -1.0416e-01, -2.2247e-01],\n",
       "        [ 1.2551e-01,  4.8790e-02, -5.6386e-02, -1.0402e-01,  1.4637e-01,\n",
       "          6.8521e-02,  1.0584e-01,  1.6802e-02, -4.5320e-03, -3.1459e-01],\n",
       "        [ 1.2493e-01,  5.6106e-02, -1.6092e-01,  4.0021e-02,  1.5019e-01,\n",
       "         -1.7777e-01, -3.1137e-02, -2.1502e-01, -5.1998e-02, -1.7067e-01],\n",
       "        [ 6.7143e-02,  1.8187e-01,  1.5253e-01, -7.0632e-02,  5.0967e-02,\n",
       "         -1.3956e-01,  1.9743e-02,  2.7779e-02,  1.0473e-01, -1.4510e-01],\n",
       "        [-1.9312e-02, -2.2255e-02,  7.6966e-03, -2.1566e-02,  1.3083e-01,\n",
       "          1.4808e-02,  6.8848e-02, -1.0114e-01, -1.8020e-02, -1.1548e-01],\n",
       "        [ 1.2909e-01,  2.4864e-02, -2.3463e-01, -1.7688e-01,  2.3793e-01,\n",
       "         -2.3935e-01,  5.6316e-02, -6.8839e-02, -2.7967e-01, -2.9786e-01],\n",
       "        [ 9.8030e-02, -1.7861e-02, -1.5664e-01,  3.7937e-02,  1.4190e-01,\n",
       "         -3.7263e-02,  2.3223e-02, -9.8900e-02, -5.9745e-02,  1.0543e-02],\n",
       "        [ 1.3115e-01,  1.2564e-01,  3.2096e-04, -1.8988e-01,  1.0119e-01,\n",
       "         -1.0073e-01,  1.5676e-02, -7.0731e-02,  5.3437e-03, -2.6078e-01],\n",
       "        [ 1.1002e-01,  8.5223e-02, -9.0726e-02, -2.5591e-02,  1.0509e-01,\n",
       "          1.8372e-02,  6.8863e-02, -5.1793e-02,  6.6209e-02, -1.3906e-01],\n",
       "        [ 1.3286e-01,  2.4947e-03, -1.0200e-01, -3.0890e-02,  4.8003e-02,\n",
       "         -4.6359e-02, -4.9428e-02, -4.8131e-02, -9.3790e-02, -1.9950e-01],\n",
       "        [-1.8692e-02,  1.2554e-01, -1.4930e-01, -1.3915e-01,  3.8407e-02,\n",
       "          6.4976e-02,  5.1403e-02, -6.1071e-02, -1.1004e-01, -2.6537e-01],\n",
       "        [ 5.2940e-02,  2.7485e-01, -1.2288e-01, -1.5704e-01,  3.3058e-02,\n",
       "         -3.8484e-02,  1.2666e-01, -8.3050e-03,  1.1869e-02, -2.0442e-01],\n",
       "        [ 8.6093e-02,  2.0203e-02, -1.1144e-02,  1.8046e-02,  9.5905e-02,\n",
       "         -7.0690e-02, -3.8477e-02, -1.3716e-01, -2.5322e-02, -2.8737e-02],\n",
       "        [ 6.9242e-02,  1.5765e-02, -2.8825e-02,  3.7827e-03,  8.4825e-02,\n",
       "         -9.0599e-03,  1.5554e-02,  2.1778e-03, -3.4454e-02, -1.4497e-01],\n",
       "        [ 2.1713e-02,  2.0573e-01, -1.0841e-01, -8.7635e-02,  1.0150e-01,\n",
       "         -1.2814e-01,  4.9758e-03,  4.8909e-02, -1.4549e-01, -3.8111e-01],\n",
       "        [ 1.9985e-01,  7.1318e-02, -2.3992e-01, -5.4848e-02,  1.5896e-01,\n",
       "         -1.0532e-01,  1.0488e-02, -1.2744e-01, -1.0575e-01, -2.3945e-01],\n",
       "        [ 4.8428e-02,  5.6296e-02, -9.8007e-02, -4.1398e-02,  7.7156e-02,\n",
       "         -1.2265e-01,  5.7240e-02, -1.5506e-02,  1.2748e-02, -1.2211e-01],\n",
       "        [ 4.5550e-02, -1.6976e-02, -1.0181e-01, -1.2395e-01,  1.3445e-01,\n",
       "         -1.8211e-01,  4.3414e-02, -6.8885e-02, -1.2006e-01, -1.5619e-01],\n",
       "        [ 7.2495e-02,  1.7547e-01,  3.6577e-02,  1.1878e-01,  7.5203e-02,\n",
       "         -8.4182e-02, -7.7013e-02, -9.2032e-02,  1.3607e-01, -1.2969e-01],\n",
       "        [ 3.8994e-02,  1.1404e-02, -1.5195e-03, -3.1115e-02,  5.5229e-02,\n",
       "         -6.7957e-02,  2.9329e-02, -1.3752e-01, -1.2791e-01, -1.1247e-01],\n",
       "        [-3.9821e-02,  8.5128e-02, -1.0157e-01, -4.7397e-02, -4.7837e-02,\n",
       "         -3.4249e-02,  3.3965e-02, -1.0154e-01, -3.4440e-02, -1.2610e-01],\n",
       "        [ 6.0389e-02,  2.2466e-01, -1.8845e-01, -1.5986e-01,  5.9346e-02,\n",
       "         -1.4870e-01, -7.9262e-02, -1.2612e-01, -1.6094e-01, -4.0471e-01],\n",
       "        [-7.6388e-02,  8.0650e-02, -7.6507e-03, -5.8487e-04,  1.2640e-01,\n",
       "         -1.0581e-01,  2.7315e-02, -3.0807e-02, -3.8301e-02, -1.3342e-01],\n",
       "        [ 3.0357e-03,  7.4778e-02, -1.3411e-01, -1.0279e-01,  1.0757e-01,\n",
       "         -1.2110e-01,  1.0939e-02, -6.4403e-02,  3.1053e-03, -4.4530e-02],\n",
       "        [-4.0219e-02,  5.4882e-02, -7.2780e-02, -5.0372e-02,  1.0875e-01,\n",
       "          4.1297e-03,  4.8943e-02, -1.0604e-01, -8.4154e-02, -6.1796e-02],\n",
       "        [ 1.0849e-01,  1.2148e-01, -2.5043e-02,  4.8000e-02,  6.3889e-02,\n",
       "         -7.9094e-02,  4.1315e-02, -1.0571e-01,  3.1833e-02, -4.2048e-02],\n",
       "        [ 5.0261e-02,  7.1618e-02, -2.8220e-02,  5.9261e-03,  1.8436e-01,\n",
       "          7.8963e-02, -1.0888e-01, -1.7849e-01,  2.8352e-03, -2.1454e-01],\n",
       "        [ 6.0435e-02, -5.3345e-02, -1.0738e-01,  4.2680e-02,  1.5109e-02,\n",
       "         -3.5809e-02,  2.5335e-03, -1.6645e-01, -9.3409e-02, -1.1458e-01],\n",
       "        [-2.8671e-02,  6.6727e-02, -1.3501e-01,  1.1340e-02,  1.4231e-01,\n",
       "         -2.5081e-02, -2.9685e-02, -1.1346e-01, -2.1856e-02, -1.7421e-01],\n",
       "        [-4.2823e-02,  9.3728e-02, -4.9626e-02, -4.8744e-02,  1.2406e-01,\n",
       "          4.2704e-02, -4.5918e-03, -1.5026e-01, -9.2419e-02, -1.2907e-01],\n",
       "        [ 6.3953e-03, -6.0377e-02,  1.1070e-02,  1.8650e-03,  3.4310e-02,\n",
       "         -2.6400e-02, -2.1184e-01, -2.5216e-01, -5.9364e-02, -9.7309e-02],\n",
       "        [ 8.9801e-02, -3.8087e-02, -8.4315e-02,  3.1030e-03,  1.0378e-01,\n",
       "         -8.6656e-02, -1.0142e-01, -7.5821e-02, -8.7477e-02, -9.0996e-02],\n",
       "        [ 1.6926e-01, -6.9939e-03,  3.1451e-02, -4.3320e-02,  5.5887e-02,\n",
       "         -6.7222e-02, -2.2536e-02, -1.6633e-02,  5.2590e-03, -3.6545e-01],\n",
       "        [-2.5109e-02,  8.0214e-02, -6.5545e-02, -8.7642e-02, -1.0884e-02,\n",
       "         -4.4964e-02,  3.4191e-02, -1.5869e-01,  7.3741e-03, -1.5913e-01],\n",
       "        [-3.4904e-02,  2.0174e-01,  2.0623e-02, -9.6884e-02,  5.6772e-02,\n",
       "         -8.4317e-02,  3.6749e-02, -1.1250e-02,  8.6613e-02, -1.8996e-01],\n",
       "        [ 9.6742e-02, -2.6888e-02, -1.1986e-01, -1.6813e-02,  1.0586e-01,\n",
       "         -1.4272e-01,  4.3169e-02, -1.9245e-01, -9.4111e-02, -1.8615e-01],\n",
       "        [ 1.9032e-01,  3.3584e-02, -2.0991e-01, -9.4810e-04,  2.1589e-01,\n",
       "         -1.4660e-01, -1.2985e-01, -6.5966e-02, -1.8603e-01, -2.1464e-01],\n",
       "        [ 4.5007e-03,  5.7319e-02, -8.7788e-02, -1.9603e-02,  1.3695e-01,\n",
       "         -7.4917e-02,  4.7070e-02, -6.1474e-02, -5.5589e-02, -1.5873e-01],\n",
       "        [ 1.4883e-01,  8.7969e-02, -9.8712e-02,  6.5621e-02,  8.2489e-02,\n",
       "         -6.6613e-02, -5.5599e-02, -5.6460e-02,  3.5122e-02, -1.9925e-01],\n",
       "        [-7.2497e-02,  7.2420e-02, -1.0128e-01,  3.3972e-02,  8.0771e-02,\n",
       "         -5.4914e-02,  5.8843e-02, -4.4901e-02, -3.1034e-02, -9.5287e-02],\n",
       "        [ 5.6023e-02, -7.4781e-02, -1.8574e-02,  3.9183e-02, -7.8693e-02,\n",
       "          7.5859e-03, -1.2830e-01, -1.8871e-01, -5.5492e-02, -3.8455e-02],\n",
       "        [ 5.5275e-02,  3.7707e-02,  5.2082e-03, -7.5848e-02,  1.6730e-01,\n",
       "          3.3386e-02, -4.4466e-02, -9.6350e-02, -8.0681e-02, -2.4178e-01],\n",
       "        [ 1.0526e-02, -4.9886e-03, -2.8137e-02, -1.0931e-01,  1.1509e-01,\n",
       "         -2.4445e-01, -9.1044e-02, -1.1328e-01, -4.5980e-02, -3.1699e-01],\n",
       "        [-7.8901e-02,  7.2052e-02, -2.1909e-01, -6.2423e-02,  1.4536e-01,\n",
       "         -1.9110e-02,  1.2361e-01, -1.3844e-01, -4.5827e-02, -2.5519e-01],\n",
       "        [-2.5734e-03,  9.5300e-02, -1.1012e-01, -1.1797e-02, -2.1407e-02,\n",
       "          9.4785e-03,  6.2695e-02, -1.5550e-01, -1.0427e-01, -2.0293e-01],\n",
       "        [ 6.3864e-02,  5.5986e-02, -1.4372e-01,  5.9957e-03,  1.4468e-01,\n",
       "         -1.6734e-02, -5.9770e-02, -1.3576e-01, -1.1428e-01, -2.2408e-01],\n",
       "        [ 7.5145e-02,  1.8327e-01, -7.6862e-02, -1.4079e-01,  6.0750e-02,\n",
       "         -1.5435e-02, -2.7650e-02, -2.2660e-02,  3.5194e-02, -3.6554e-01],\n",
       "        [ 7.8019e-02,  2.4034e-02, -1.1944e-01, -1.7098e-01,  1.8519e-01,\n",
       "          7.5300e-02,  4.8705e-03, -1.4322e-01, -1.9211e-01, -1.7972e-01],\n",
       "        [ 9.3777e-04,  3.2370e-02, -1.4585e-01, -3.5436e-03,  1.2742e-01,\n",
       "         -8.6964e-03,  3.7456e-02, -5.3376e-02, -7.2086e-02, -8.5541e-02],\n",
       "        [-3.4684e-02,  6.3861e-02, -2.0711e-02,  1.9459e-02,  9.8675e-02,\n",
       "         -1.7281e-02,  6.4273e-03, -1.2244e-01, -5.8024e-03, -1.3120e-01],\n",
       "        [ 5.3939e-02,  1.7771e-01, -8.9609e-03, -1.2341e-01,  8.8547e-02,\n",
       "          2.0180e-02,  1.0373e-01, -3.2905e-02, -2.7452e-02, -2.7747e-01],\n",
       "        [ 1.1766e-01,  5.2220e-02,  2.1787e-02, -7.1662e-02,  1.3582e-01,\n",
       "         -3.2581e-02, -8.9451e-02, -1.2070e-01, -1.1449e-01, -1.7084e-01],\n",
       "        [ 6.2000e-02, -1.5853e-02, -6.6514e-02, -3.4159e-03,  5.4582e-02,\n",
       "         -9.5871e-02, -3.4637e-02, -1.9882e-01,  3.1794e-02, -2.2222e-01],\n",
       "        [-1.9186e-03,  1.4454e-02, -1.6707e-01, -6.0086e-02,  2.8114e-01,\n",
       "         -1.7061e-01,  8.2327e-02, -6.4382e-02, -1.4370e-01, -2.0673e-01],\n",
       "        [ 1.4534e-02,  4.6984e-03, -1.7384e-01, -9.9004e-02,  1.0196e-01,\n",
       "          7.8562e-02, -8.4754e-03, -2.8986e-02, -9.1158e-02, -1.5366e-01],\n",
       "        [ 1.3582e-01,  1.6191e-01, -7.3512e-02,  1.9764e-02,  1.1858e-01,\n",
       "         -2.1520e-01, -6.6577e-02, -1.1107e-01,  1.0029e-01, -2.8267e-01],\n",
       "        [ 8.0992e-03,  6.2884e-02, -5.7515e-02, -1.2989e-03,  2.0986e-01,\n",
       "         -1.2505e-01,  1.2053e-01, -4.4412e-02,  1.1216e-02, -2.3461e-01],\n",
       "        [ 4.6570e-02,  4.8068e-02, -2.6575e-02, -1.7861e-02,  3.3402e-02,\n",
       "         -1.4909e-02,  7.2751e-03, -1.1651e-02, -5.2172e-02, -2.6860e-01],\n",
       "        [-5.1261e-02,  9.2703e-03, -5.9332e-02, -6.5135e-03,  8.6367e-02,\n",
       "         -1.4197e-01,  1.1460e-01,  1.7946e-02, -3.3716e-02, -9.9076e-02],\n",
       "        [ 4.5555e-02,  2.5763e-02, -4.9942e-02, -1.4021e-01,  1.2988e-01,\n",
       "         -6.5709e-02,  4.8016e-02, -3.2371e-02, -1.1063e-01, -1.5747e-01],\n",
       "        [ 1.2225e-01,  1.4264e-01, -4.5873e-02, -7.6146e-02,  8.3150e-02,\n",
       "         -1.8988e-01,  7.6572e-02,  3.5402e-03,  7.4080e-02, -2.7877e-01],\n",
       "        [ 1.1184e-01,  1.7483e-01,  7.3884e-02, -9.1149e-02, -2.9024e-02,\n",
       "         -5.8618e-02, -8.7758e-02, -8.7023e-02,  2.7851e-02, -2.5511e-01],\n",
       "        [ 1.0723e-02,  9.9643e-02, -2.8599e-02, -1.3302e-02,  1.6774e-01,\n",
       "         -8.7137e-02,  2.5775e-02, -4.3597e-02, -9.5592e-02, -1.8642e-01],\n",
       "        [ 3.0273e-02,  7.9618e-02, -1.4562e-01,  7.7696e-02,  1.2194e-01,\n",
       "         -2.0999e-02, -7.4494e-03, -1.1563e-01, -8.8581e-02, -1.0980e-01],\n",
       "        [ 1.1395e-01,  1.6183e-01, -1.7500e-01, -9.0387e-02, -9.4190e-02,\n",
       "         -8.8471e-02, -5.2370e-02, -1.1095e-01,  1.0268e-02, -2.6135e-01],\n",
       "        [ 2.9096e-02,  9.5198e-02, -5.0524e-02,  4.3549e-03,  4.1000e-02,\n",
       "          1.8561e-02, -1.2700e-01, -1.2343e-01,  3.1058e-03, -1.6000e-01],\n",
       "        [-6.8557e-02,  9.7729e-02, -1.7466e-02, -5.6544e-02,  1.5679e-01,\n",
       "          6.0709e-03,  9.4140e-03, -1.4117e-01, -7.4395e-02, -2.1606e-01],\n",
       "        [ 7.6754e-02,  4.6913e-05, -9.4660e-02, -8.8792e-02,  3.7467e-02,\n",
       "         -1.2926e-01, -2.5966e-02, -7.0138e-02, -4.7687e-02, -1.2073e-01],\n",
       "        [ 1.1331e-01,  2.0430e-01, -1.3852e-01, -1.0588e-01,  6.2829e-02,\n",
       "         -1.9021e-01, -3.4973e-02,  3.9340e-02, -1.3239e-01, -4.4507e-01],\n",
       "        [ 5.5658e-02,  6.6494e-02, -1.5064e-01, -6.5703e-03,  1.7292e-01,\n",
       "         -2.3888e-02, -6.1081e-02, -1.1184e-01, -1.0725e-01, -3.4362e-01],\n",
       "        [-2.7116e-02,  7.8626e-02, -1.4261e-02, -1.8655e-01,  1.8263e-02,\n",
       "         -5.1238e-02,  1.2479e-01,  1.3890e-01, -5.1292e-02, -3.4013e-01],\n",
       "        [ 1.4036e-01,  2.4534e-02, -4.9744e-02, -2.3630e-02,  1.1659e-01,\n",
       "         -9.5157e-02,  6.4485e-02, -1.1094e-01, -1.4004e-01, -1.8252e-01],\n",
       "        [ 1.0522e-01,  5.2338e-03, -8.4451e-02, -2.6237e-02,  2.1786e-01,\n",
       "          5.6215e-03, -1.2315e-02, -1.3955e-01, -7.4258e-02, -7.7439e-03],\n",
       "        [ 4.1251e-02,  2.8394e-02, -6.9058e-02, -7.5188e-02,  7.6316e-03,\n",
       "         -1.5328e-02,  2.6526e-02, -5.6571e-02, -8.5192e-02, -2.2152e-01],\n",
       "        [ 1.8872e-01,  1.9347e-01, -1.6244e-01, -2.5330e-02,  1.1280e-01,\n",
       "         -1.2394e-01, -1.8492e-01, -8.8735e-02, -1.1262e-02, -3.6203e-01],\n",
       "        [ 9.8483e-02, -1.8878e-03, -1.7447e-02,  9.3534e-02, -4.4387e-02,\n",
       "         -1.8262e-02, -6.1625e-02, -1.0789e-01, -2.5985e-02, -1.6409e-01]],\n",
       "       grad_fn=<AddmmBackward0>)"
      ]
     },
     "execution_count": 21,
     "metadata": {},
     "output_type": "execute_result"
    }
   ],
   "source": [
    "model=DigitFind()\n",
    "to_device(model,device)\n",
    "for images,labels in train_loader:\n",
    "    output=model(images)\n",
    "    break\n",
    "output    "
   ]
  },
  {
   "cell_type": "code",
   "execution_count": 22,
   "id": "e261c425",
   "metadata": {
    "execution": {
     "iopub.execute_input": "2022-10-09T08:19:41.292168Z",
     "iopub.status.busy": "2022-10-09T08:19:41.291551Z",
     "iopub.status.idle": "2022-10-09T08:19:41.306561Z",
     "shell.execute_reply": "2022-10-09T08:19:41.305469Z"
    },
    "papermill": {
     "duration": 0.029315,
     "end_time": "2022-10-09T08:19:41.308794",
     "exception": false,
     "start_time": "2022-10-09T08:19:41.279479",
     "status": "completed"
    },
    "tags": []
   },
   "outputs": [
    {
     "data": {
      "text/plain": [
       "(tensor([[0.1211, 0.0915, 0.1046, 0.0999, 0.1233, 0.0972, 0.0982, 0.0831, 0.1023,\n",
       "          0.0786],\n",
       "         [0.1149, 0.0974, 0.0935, 0.1025, 0.0923, 0.1016, 0.1069, 0.1019, 0.0955,\n",
       "          0.0933],\n",
       "         [0.1030, 0.1064, 0.0920, 0.1114, 0.1144, 0.0882, 0.1019, 0.0947, 0.0972,\n",
       "          0.0910],\n",
       "         [0.1069, 0.1150, 0.0919, 0.1037, 0.1032, 0.1001, 0.1060, 0.0901, 0.1012,\n",
       "          0.0819],\n",
       "         [0.1080, 0.1097, 0.0996, 0.0890, 0.1197, 0.1000, 0.1106, 0.0882, 0.0931,\n",
       "          0.0822],\n",
       "         [0.1207, 0.1015, 0.0914, 0.0912, 0.1158, 0.0823, 0.1183, 0.1016, 0.1030,\n",
       "          0.0743],\n",
       "         [0.1076, 0.1100, 0.0909, 0.0900, 0.0980, 0.0997, 0.1113, 0.0946, 0.1042,\n",
       "          0.0936],\n",
       "         [0.1012, 0.1043, 0.1028, 0.0964, 0.1047, 0.1003, 0.1133, 0.0949, 0.0943,\n",
       "          0.0878],\n",
       "         [0.1253, 0.1221, 0.0930, 0.1098, 0.1033, 0.0931, 0.0848, 0.0903, 0.1088,\n",
       "          0.0694],\n",
       "         [0.1280, 0.1183, 0.0893, 0.0875, 0.1062, 0.0997, 0.1025, 0.0955, 0.0925,\n",
       "          0.0806],\n",
       "         [0.1212, 0.1043, 0.0943, 0.1002, 0.1107, 0.0952, 0.0955, 0.0929, 0.1048,\n",
       "          0.0809],\n",
       "         [0.1223, 0.1119, 0.0940, 0.1005, 0.1052, 0.0851, 0.1033, 0.0969, 0.1002,\n",
       "          0.0805],\n",
       "         [0.1108, 0.1032, 0.0925, 0.0991, 0.1173, 0.0914, 0.1052, 0.0914, 0.1023,\n",
       "          0.0867],\n",
       "         [0.1128, 0.1059, 0.1000, 0.1008, 0.1119, 0.0887, 0.1070, 0.0905, 0.0940,\n",
       "          0.0883],\n",
       "         [0.1016, 0.1054, 0.1038, 0.1011, 0.1152, 0.0937, 0.1037, 0.0927, 0.0966,\n",
       "          0.0862],\n",
       "         [0.1013, 0.1070, 0.0933, 0.1000, 0.1124, 0.0984, 0.1087, 0.0836, 0.0999,\n",
       "          0.0954],\n",
       "         [0.1063, 0.1088, 0.0898, 0.0947, 0.1174, 0.0907, 0.1137, 0.0931, 0.1037,\n",
       "          0.0818],\n",
       "         [0.1035, 0.1103, 0.1088, 0.0975, 0.1101, 0.1030, 0.0922, 0.0863, 0.1057,\n",
       "          0.0826],\n",
       "         [0.1129, 0.1074, 0.0882, 0.0985, 0.1140, 0.0988, 0.0986, 0.0960, 0.0973,\n",
       "          0.0883],\n",
       "         [0.1195, 0.1030, 0.0949, 0.1008, 0.1279, 0.0933, 0.0999, 0.0881, 0.0908,\n",
       "          0.0818],\n",
       "         [0.1092, 0.1094, 0.0945, 0.1070, 0.1190, 0.0944, 0.1036, 0.0911, 0.0880,\n",
       "          0.0840],\n",
       "         [0.0998, 0.0979, 0.0936, 0.1047, 0.1102, 0.0858, 0.1065, 0.1059, 0.1026,\n",
       "          0.0930],\n",
       "         [0.1047, 0.1002, 0.0991, 0.0947, 0.1251, 0.0977, 0.1019, 0.0934, 0.0907,\n",
       "          0.0925],\n",
       "         [0.1074, 0.1094, 0.1054, 0.0946, 0.1151, 0.0933, 0.0974, 0.0875, 0.1054,\n",
       "          0.0846],\n",
       "         [0.1075, 0.1222, 0.1033, 0.0864, 0.1028, 0.0965, 0.1042, 0.1046, 0.0914,\n",
       "          0.0812],\n",
       "         [0.1121, 0.1038, 0.0935, 0.0891, 0.1145, 0.1059, 0.1099, 0.1006, 0.0984,\n",
       "          0.0722],\n",
       "         [0.1174, 0.1096, 0.0882, 0.1079, 0.1204, 0.0867, 0.1004, 0.0836, 0.0984,\n",
       "          0.0874],\n",
       "         [0.1037, 0.1163, 0.1130, 0.0904, 0.1021, 0.0844, 0.0989, 0.0997, 0.1077,\n",
       "          0.0839],\n",
       "         [0.0986, 0.0983, 0.1013, 0.0984, 0.1146, 0.1020, 0.1077, 0.0909, 0.0987,\n",
       "          0.0896],\n",
       "         [0.1219, 0.1098, 0.0847, 0.0897, 0.1359, 0.0843, 0.1133, 0.1000, 0.0810,\n",
       "          0.0795],\n",
       "         [0.1106, 0.0985, 0.0857, 0.1041, 0.1155, 0.0966, 0.1026, 0.0908, 0.0944,\n",
       "          0.1013],\n",
       "         [0.1159, 0.1153, 0.1017, 0.0841, 0.1125, 0.0919, 0.1033, 0.0947, 0.1022,\n",
       "          0.0783],\n",
       "         [0.1096, 0.1069, 0.0897, 0.0957, 0.1091, 0.1000, 0.1052, 0.0933, 0.1049,\n",
       "          0.0855],\n",
       "         [0.1183, 0.1038, 0.0935, 0.1004, 0.1087, 0.0989, 0.0986, 0.0987, 0.0943,\n",
       "          0.0848],\n",
       "         [0.1021, 0.1180, 0.0896, 0.0905, 0.1081, 0.1111, 0.1096, 0.0979, 0.0932,\n",
       "          0.0798],\n",
       "         [0.1048, 0.1309, 0.0879, 0.0850, 0.1028, 0.0957, 0.1128, 0.0986, 0.1006,\n",
       "          0.0810],\n",
       "         [0.1098, 0.1028, 0.0996, 0.1025, 0.1108, 0.0938, 0.0969, 0.0878, 0.0982,\n",
       "          0.0978],\n",
       "         [0.1073, 0.1017, 0.0972, 0.1005, 0.1089, 0.0992, 0.1017, 0.1003, 0.0967,\n",
       "          0.0866],\n",
       "         [0.1059, 0.1273, 0.0930, 0.0949, 0.1147, 0.0911, 0.1041, 0.1088, 0.0896,\n",
       "          0.0708],\n",
       "         [0.1262, 0.1110, 0.0813, 0.0978, 0.1211, 0.0930, 0.1044, 0.0910, 0.0930,\n",
       "          0.0813],\n",
       "         [0.1062, 0.1071, 0.0918, 0.0971, 0.1093, 0.0895, 0.1072, 0.0997, 0.1025,\n",
       "          0.0896],\n",
       "         [0.1100, 0.1033, 0.0949, 0.0929, 0.1202, 0.0876, 0.1098, 0.0981, 0.0932,\n",
       "          0.0899],\n",
       "         [0.1045, 0.1158, 0.1008, 0.1094, 0.1048, 0.0893, 0.0900, 0.0886, 0.1113,\n",
       "          0.0854],\n",
       "         [0.1074, 0.1044, 0.1031, 0.1001, 0.1091, 0.0965, 0.1063, 0.0900, 0.0909,\n",
       "          0.0923],\n",
       "         [0.1000, 0.1133, 0.0940, 0.0992, 0.0992, 0.1005, 0.1076, 0.0940, 0.1005,\n",
       "          0.0917],\n",
       "         [0.1149, 0.1355, 0.0896, 0.0922, 0.1148, 0.0933, 0.1000, 0.0954, 0.0921,\n",
       "          0.0722],\n",
       "         [0.0939, 0.1098, 0.1005, 0.1012, 0.1150, 0.0911, 0.1041, 0.0982, 0.0975,\n",
       "          0.0886],\n",
       "         [0.1027, 0.1104, 0.0896, 0.0924, 0.1140, 0.0907, 0.1035, 0.0960, 0.1027,\n",
       "          0.0979],\n",
       "         [0.0978, 0.1075, 0.0946, 0.0968, 0.1135, 0.1022, 0.1069, 0.0915, 0.0936,\n",
       "          0.0957],\n",
       "         [0.1094, 0.1108, 0.0957, 0.1029, 0.1046, 0.0907, 0.1023, 0.0883, 0.1013,\n",
       "          0.0941],\n",
       "         [0.1059, 0.1082, 0.0979, 0.1013, 0.1211, 0.1090, 0.0903, 0.0842, 0.1010,\n",
       "          0.0812],\n",
       "         [0.1108, 0.0989, 0.0937, 0.1089, 0.1059, 0.1007, 0.1046, 0.0883, 0.0950,\n",
       "          0.0930],\n",
       "         [0.0998, 0.1098, 0.0897, 0.1039, 0.1184, 0.1002, 0.0997, 0.0917, 0.1005,\n",
       "          0.0863],\n",
       "         [0.0979, 0.1123, 0.0973, 0.0974, 0.1157, 0.1067, 0.1018, 0.0880, 0.0932,\n",
       "          0.0898],\n",
       "         [0.1070, 0.1001, 0.1075, 0.1065, 0.1100, 0.1036, 0.0860, 0.0826, 0.1002,\n",
       "          0.0965],\n",
       "         [0.1132, 0.0996, 0.0951, 0.1038, 0.1148, 0.0949, 0.0935, 0.0959, 0.0948,\n",
       "          0.0945],\n",
       "         [0.1206, 0.1011, 0.1051, 0.0975, 0.1077, 0.0952, 0.0996, 0.1002, 0.1024,\n",
       "          0.0707],\n",
       "         [0.1015, 0.1128, 0.0975, 0.0954, 0.1030, 0.0995, 0.1077, 0.0888, 0.1049,\n",
       "          0.0888],\n",
       "         [0.0962, 0.1219, 0.1017, 0.0904, 0.1054, 0.0916, 0.1033, 0.0985, 0.1086,\n",
       "          0.0824],\n",
       "         [0.1155, 0.1021, 0.0930, 0.1031, 0.1166, 0.0909, 0.1095, 0.0865, 0.0955,\n",
       "          0.0871],\n",
       "         [0.1259, 0.1076, 0.0844, 0.1040, 0.1291, 0.0899, 0.0914, 0.0974, 0.0864,\n",
       "          0.0840],\n",
       "         [0.1023, 0.1078, 0.0933, 0.0998, 0.1168, 0.0945, 0.1067, 0.0957, 0.0963,\n",
       "          0.0869],\n",
       "         [0.1161, 0.1093, 0.0907, 0.1068, 0.1087, 0.0936, 0.0946, 0.0946, 0.1036,\n",
       "          0.0820],\n",
       "         [0.0942, 0.1089, 0.0916, 0.1048, 0.1098, 0.0959, 0.1075, 0.0969, 0.0982,\n",
       "          0.0921],\n",
       "         [0.1107, 0.0971, 0.1027, 0.1088, 0.0967, 0.1055, 0.0921, 0.0867, 0.0990,\n",
       "          0.1007],\n",
       "         [0.1077, 0.1058, 0.1024, 0.0944, 0.1204, 0.1053, 0.0974, 0.0925, 0.0940,\n",
       "          0.0800],\n",
       "         [0.1090, 0.1074, 0.1049, 0.0967, 0.1210, 0.0845, 0.0985, 0.0963, 0.1030,\n",
       "          0.0786],\n",
       "         [0.0961, 0.1118, 0.0836, 0.0977, 0.1203, 0.1021, 0.1177, 0.0906, 0.0994,\n",
       "          0.0806],\n",
       "         [0.1038, 0.1145, 0.0932, 0.1029, 0.1019, 0.1051, 0.1108, 0.0891, 0.0938,\n",
       "          0.0850],\n",
       "         [0.1106, 0.1097, 0.0898, 0.1043, 0.1199, 0.1020, 0.0977, 0.0906, 0.0925,\n",
       "          0.0829],\n",
       "         [0.1100, 0.1226, 0.0945, 0.0886, 0.1084, 0.1005, 0.0992, 0.0997, 0.1057,\n",
       "          0.0708],\n",
       "         [0.1120, 0.1062, 0.0920, 0.0873, 0.1247, 0.1117, 0.1041, 0.0898, 0.0855,\n",
       "          0.0866],\n",
       "         [0.1016, 0.1048, 0.0877, 0.1011, 0.1152, 0.1006, 0.1053, 0.0962, 0.0944,\n",
       "          0.0931],\n",
       "         [0.0978, 0.1079, 0.0991, 0.1032, 0.1117, 0.0995, 0.1019, 0.0896, 0.1006,\n",
       "          0.0888],\n",
       "         [0.1051, 0.1189, 0.0987, 0.0880, 0.1088, 0.1016, 0.1104, 0.0963, 0.0969,\n",
       "          0.0754],\n",
       "         [0.1150, 0.1077, 0.1045, 0.0952, 0.1171, 0.0990, 0.0935, 0.0906, 0.0912,\n",
       "          0.0862],\n",
       "         [0.1112, 0.1029, 0.0978, 0.1042, 0.1104, 0.0950, 0.1010, 0.0857, 0.1079,\n",
       "          0.0837],\n",
       "         [0.1032, 0.1049, 0.0875, 0.0974, 0.1370, 0.0872, 0.1123, 0.0970, 0.0896,\n",
       "          0.0841],\n",
       "         [0.1047, 0.1037, 0.0867, 0.0935, 0.1143, 0.1117, 0.1023, 0.1003, 0.0942,\n",
       "          0.0885],\n",
       "         [0.1158, 0.1189, 0.0939, 0.1031, 0.1138, 0.0815, 0.0946, 0.0905, 0.1118,\n",
       "          0.0762],\n",
       "         [0.1006, 0.1063, 0.0942, 0.0997, 0.1231, 0.0881, 0.1126, 0.0955, 0.1009,\n",
       "          0.0789],\n",
       "         [0.1071, 0.1073, 0.0996, 0.1004, 0.1057, 0.1007, 0.1030, 0.1010, 0.0970,\n",
       "          0.0782],\n",
       "         [0.0963, 0.1023, 0.0955, 0.1007, 0.1105, 0.0880, 0.1137, 0.1032, 0.0980,\n",
       "          0.0918],\n",
       "         [0.1075, 0.1054, 0.0977, 0.0893, 0.1170, 0.0962, 0.1078, 0.0994, 0.0920,\n",
       "          0.0878],\n",
       "         [0.1131, 0.1154, 0.0956, 0.0927, 0.1087, 0.0827, 0.1080, 0.1004, 0.1077,\n",
       "          0.0757],\n",
       "         [0.1135, 0.1209, 0.1093, 0.0927, 0.0986, 0.0958, 0.0930, 0.0931, 0.1044,\n",
       "          0.0787],\n",
       "         [0.1021, 0.1116, 0.0982, 0.0997, 0.1195, 0.0926, 0.1037, 0.0967, 0.0918,\n",
       "          0.0839],\n",
       "         [0.1045, 0.1098, 0.0877, 0.1096, 0.1145, 0.0993, 0.1006, 0.0903, 0.0928,\n",
       "          0.0909],\n",
       "         [0.1180, 0.1238, 0.0884, 0.0962, 0.0958, 0.0964, 0.0999, 0.0942, 0.1064,\n",
       "          0.0811],\n",
       "         [0.1054, 0.1126, 0.0974, 0.1029, 0.1067, 0.1043, 0.0902, 0.0905, 0.1027,\n",
       "          0.0873],\n",
       "         [0.0958, 0.1131, 0.1008, 0.0969, 0.1200, 0.1032, 0.1035, 0.0890, 0.0952,\n",
       "          0.0826],\n",
       "         [0.1129, 0.1045, 0.0951, 0.0956, 0.1085, 0.0918, 0.1018, 0.0974, 0.0997,\n",
       "          0.0926],\n",
       "         [0.1175, 0.1287, 0.0913, 0.0944, 0.1117, 0.0867, 0.1013, 0.1091, 0.0919,\n",
       "          0.0672],\n",
       "         [0.1103, 0.1115, 0.0897, 0.1036, 0.1240, 0.1018, 0.0981, 0.0933, 0.0937,\n",
       "          0.0740],\n",
       "         [0.0995, 0.1106, 0.1008, 0.0848, 0.1041, 0.0971, 0.1158, 0.1175, 0.0971,\n",
       "          0.0727],\n",
       "         [0.1174, 0.1046, 0.0971, 0.0997, 0.1147, 0.0928, 0.1088, 0.0913, 0.0887,\n",
       "          0.0850],\n",
       "         [0.1107, 0.1002, 0.0916, 0.0971, 0.1239, 0.1002, 0.0984, 0.0867, 0.0925,\n",
       "          0.0989],\n",
       "         [0.1084, 0.1070, 0.0971, 0.0965, 0.1048, 0.1024, 0.1068, 0.0983, 0.0955,\n",
       "          0.0833],\n",
       "         [0.1248, 0.1254, 0.0878, 0.1007, 0.1156, 0.0913, 0.0859, 0.0945, 0.1021,\n",
       "          0.0719],\n",
       "         [0.1128, 0.1020, 0.1005, 0.1123, 0.0978, 0.1004, 0.0961, 0.0918, 0.0996,\n",
       "          0.0868]], grad_fn=<SoftmaxBackward0>),\n",
       " tensor([5, 0, 7, 3, 8, 2, 4, 4, 3, 4, 7, 3, 2, 5, 5, 4, 9, 4, 1, 7, 9, 0, 7, 4,\n",
       "         6, 6, 2, 4, 5, 5, 7, 9, 9, 5, 2, 8, 0, 1, 5, 2, 1, 8, 3, 3, 4, 2, 4, 1,\n",
       "         1, 4, 3, 0, 1, 1, 0, 9, 6, 9, 4, 2, 2, 1, 2, 1, 5, 6, 8, 2, 2, 1, 8, 6,\n",
       "         1, 4, 6, 9, 9, 2, 4, 5, 7, 5, 2, 4, 6, 4, 8, 1, 8, 3, 1, 8, 2, 1, 2, 8,\n",
       "         7, 4, 3, 0]))"
      ]
     },
     "execution_count": 22,
     "metadata": {},
     "output_type": "execute_result"
    }
   ],
   "source": [
    "probs=F.softmax(output,dim=1)\n",
    "probs,labels"
   ]
  },
  {
   "cell_type": "code",
   "execution_count": 23,
   "id": "92f4abaa",
   "metadata": {
    "execution": {
     "iopub.execute_input": "2022-10-09T08:19:41.333100Z",
     "iopub.status.busy": "2022-10-09T08:19:41.332131Z",
     "iopub.status.idle": "2022-10-09T08:19:41.340748Z",
     "shell.execute_reply": "2022-10-09T08:19:41.339951Z"
    },
    "papermill": {
     "duration": 0.022603,
     "end_time": "2022-10-09T08:19:41.342723",
     "exception": false,
     "start_time": "2022-10-09T08:19:41.320120",
     "status": "completed"
    },
    "tags": []
   },
   "outputs": [
    {
     "data": {
      "text/plain": [
       "tensor([4, 0, 4, 1, 4, 0, 6, 6, 0, 0, 0, 0, 4, 0, 4, 4, 4, 1, 4, 4, 4, 4, 4, 4,\n",
       "        1, 4, 4, 1, 4, 4, 4, 0, 0, 0, 1, 1, 4, 4, 1, 0, 4, 4, 1, 4, 1, 1, 4, 4,\n",
       "        4, 1, 4, 0, 4, 4, 4, 4, 0, 1, 1, 4, 4, 4, 0, 4, 0, 4, 4, 4, 1, 4, 1, 4,\n",
       "        4, 4, 1, 4, 0, 4, 4, 1, 4, 1, 6, 4, 1, 1, 4, 4, 1, 1, 4, 0, 1, 4, 7, 0,\n",
       "        4, 0, 1, 0])"
      ]
     },
     "execution_count": 23,
     "metadata": {},
     "output_type": "execute_result"
    }
   ],
   "source": [
    "max_probs,pred=torch.max(probs,dim=1)\n",
    "pred"
   ]
  },
  {
   "cell_type": "code",
   "execution_count": 24,
   "id": "9511dafc",
   "metadata": {
    "execution": {
     "iopub.execute_input": "2022-10-09T08:19:41.367660Z",
     "iopub.status.busy": "2022-10-09T08:19:41.366587Z",
     "iopub.status.idle": "2022-10-09T08:19:41.371373Z",
     "shell.execute_reply": "2022-10-09T08:19:41.370684Z"
    },
    "papermill": {
     "duration": 0.019119,
     "end_time": "2022-10-09T08:19:41.373298",
     "exception": false,
     "start_time": "2022-10-09T08:19:41.354179",
     "status": "completed"
    },
    "tags": []
   },
   "outputs": [],
   "source": [
    "def accuracy(l1,l2):\n",
    "    return torch.sum(l1==l2).item()/len(l1)"
   ]
  },
  {
   "cell_type": "code",
   "execution_count": 25,
   "id": "62e998a5",
   "metadata": {
    "execution": {
     "iopub.execute_input": "2022-10-09T08:19:41.397826Z",
     "iopub.status.busy": "2022-10-09T08:19:41.396944Z",
     "iopub.status.idle": "2022-10-09T08:19:41.401508Z",
     "shell.execute_reply": "2022-10-09T08:19:41.400544Z"
    },
    "papermill": {
     "duration": 0.019185,
     "end_time": "2022-10-09T08:19:41.403830",
     "exception": false,
     "start_time": "2022-10-09T08:19:41.384645",
     "status": "completed"
    },
    "tags": []
   },
   "outputs": [],
   "source": [
    "loss_fn=F.cross_entropy\n"
   ]
  },
  {
   "cell_type": "code",
   "execution_count": 26,
   "id": "b6f0a28d",
   "metadata": {
    "execution": {
     "iopub.execute_input": "2022-10-09T08:19:41.428486Z",
     "iopub.status.busy": "2022-10-09T08:19:41.427753Z",
     "iopub.status.idle": "2022-10-09T08:19:41.432911Z",
     "shell.execute_reply": "2022-10-09T08:19:41.432165Z"
    },
    "papermill": {
     "duration": 0.019859,
     "end_time": "2022-10-09T08:19:41.435081",
     "exception": false,
     "start_time": "2022-10-09T08:19:41.415222",
     "status": "completed"
    },
    "tags": []
   },
   "outputs": [],
   "source": [
    "# optimizer\n",
    "learning_rate=0.003\n",
    "optimizer=torch.optim.SGD(model.parameters(),lr=learning_rate)\n"
   ]
  },
  {
   "cell_type": "code",
   "execution_count": 27,
   "id": "1914dfe5",
   "metadata": {
    "execution": {
     "iopub.execute_input": "2022-10-09T08:19:41.459470Z",
     "iopub.status.busy": "2022-10-09T08:19:41.458755Z",
     "iopub.status.idle": "2022-10-09T08:19:41.465043Z",
     "shell.execute_reply": "2022-10-09T08:19:41.464301Z"
    },
    "papermill": {
     "duration": 0.020775,
     "end_time": "2022-10-09T08:19:41.467145",
     "exception": false,
     "start_time": "2022-10-09T08:19:41.446370",
     "status": "completed"
    },
    "tags": []
   },
   "outputs": [],
   "source": [
    "def loss_batch(model,loss_func,xb,yb,opt=None,metric=None):\n",
    "    preds=model(xb)\n",
    "    loss=loss_fn(preds,yb)\n",
    "    if opt:\n",
    "        loss.backward()\n",
    "        opt.step()\n",
    "        opt.zero_grad()\n",
    "    metric_result=None\n",
    "    if metric:\n",
    "        metric_result=metric(preds,yb)\n",
    "    return loss.item(),len(xb),metric_result\n"
   ]
  },
  {
   "cell_type": "code",
   "execution_count": 28,
   "id": "028db917",
   "metadata": {
    "execution": {
     "iopub.execute_input": "2022-10-09T08:19:41.491502Z",
     "iopub.status.busy": "2022-10-09T08:19:41.490795Z",
     "iopub.status.idle": "2022-10-09T08:19:41.497515Z",
     "shell.execute_reply": "2022-10-09T08:19:41.496787Z"
    },
    "papermill": {
     "duration": 0.021332,
     "end_time": "2022-10-09T08:19:41.499619",
     "exception": false,
     "start_time": "2022-10-09T08:19:41.478287",
     "status": "completed"
    },
    "tags": []
   },
   "outputs": [],
   "source": [
    "def evaluate(model,loss_func,valid_dl,metric=None):\n",
    "    with torch.no_grad():\n",
    "        result=[loss_batch(model,loss_fn,xb,yb,metric=metric) for xb,yb in valid_dl]\n",
    "        losses,nums,metrics=zip(*result)\n",
    "        total=np.sum(nums)\n",
    "        avg_loss=np.sum(np.multiply(losses,nums))/total\n",
    "        avg_metric=np.sum(np.multiply(metrics,nums))/total\n",
    "        return avg_loss,total,avg_metric"
   ]
  },
  {
   "cell_type": "code",
   "execution_count": 29,
   "id": "1e4c2cc5",
   "metadata": {
    "execution": {
     "iopub.execute_input": "2022-10-09T08:19:41.524111Z",
     "iopub.status.busy": "2022-10-09T08:19:41.523371Z",
     "iopub.status.idle": "2022-10-09T08:19:41.528889Z",
     "shell.execute_reply": "2022-10-09T08:19:41.528082Z"
    },
    "papermill": {
     "duration": 0.020156,
     "end_time": "2022-10-09T08:19:41.531037",
     "exception": false,
     "start_time": "2022-10-09T08:19:41.510881",
     "status": "completed"
    },
    "tags": []
   },
   "outputs": [],
   "source": [
    "def accuracy(output,labels):\n",
    "    _,preds=torch.max(output,dim=1)\n",
    "    return torch.sum(preds==labels).item()/len(preds)"
   ]
  },
  {
   "cell_type": "code",
   "execution_count": 30,
   "id": "db1198cd",
   "metadata": {
    "execution": {
     "iopub.execute_input": "2022-10-09T08:19:41.555564Z",
     "iopub.status.busy": "2022-10-09T08:19:41.554814Z",
     "iopub.status.idle": "2022-10-09T08:19:41.561559Z",
     "shell.execute_reply": "2022-10-09T08:19:41.560716Z"
    },
    "papermill": {
     "duration": 0.0215,
     "end_time": "2022-10-09T08:19:41.563676",
     "exception": false,
     "start_time": "2022-10-09T08:19:41.542176",
     "status": "completed"
    },
    "tags": []
   },
   "outputs": [
    {
     "data": {
      "text/plain": [
       "False"
      ]
     },
     "execution_count": 30,
     "metadata": {},
     "output_type": "execute_result"
    }
   ],
   "source": [
    "# val_loss,total,val_acc=evaluate(model,loss_fn,val_loader,metric=accuracy)\n",
    "# print(\"Loss : {:.4f} , Accuracy : {:.4f}\".format(val_loss,val_acc))\n",
    "torch.cuda.is_available()"
   ]
  },
  {
   "cell_type": "code",
   "execution_count": 31,
   "id": "5ff5eae4",
   "metadata": {
    "execution": {
     "iopub.execute_input": "2022-10-09T08:19:41.588203Z",
     "iopub.status.busy": "2022-10-09T08:19:41.587498Z",
     "iopub.status.idle": "2022-10-09T08:19:41.594599Z",
     "shell.execute_reply": "2022-10-09T08:19:41.593831Z"
    },
    "papermill": {
     "duration": 0.021819,
     "end_time": "2022-10-09T08:19:41.596789",
     "exception": false,
     "start_time": "2022-10-09T08:19:41.574970",
     "status": "completed"
    },
    "tags": []
   },
   "outputs": [],
   "source": [
    "def fit(epochs,model,loss_fn,opt,train_dl,valid_dl,metric=None):\n",
    "    for epoch in range(epochs):\n",
    "        for xb,yb in train_dl:\n",
    "            loss,_,_=loss_batch(model,loss_fn,xb,yb,opt)\n",
    "        result=evaluate(model,loss_fn,valid_dl,metric)  \n",
    "        val_loss,total,val_metric=result\n",
    "        if metric:\n",
    "            print(\"Epoch [{}/{}] , Loss : {:.4f}, {} : {:.4f}\".format(epoch+1,epochs,val_loss,metric.__name__,val_metric))\n",
    "        else:\n",
    "            print(\"Epoch [{}/{}] , Loss : {:.4f}\".format(epoch+1,epochs))"
   ]
  },
  {
   "cell_type": "code",
   "execution_count": 32,
   "id": "8b8ecdad",
   "metadata": {
    "execution": {
     "iopub.execute_input": "2022-10-09T08:19:41.621327Z",
     "iopub.status.busy": "2022-10-09T08:19:41.620718Z",
     "iopub.status.idle": "2022-10-09T08:20:53.943017Z",
     "shell.execute_reply": "2022-10-09T08:20:53.941659Z"
    },
    "papermill": {
     "duration": 72.337553,
     "end_time": "2022-10-09T08:20:53.945630",
     "exception": false,
     "start_time": "2022-10-09T08:19:41.608077",
     "status": "completed"
    },
    "tags": []
   },
   "outputs": [
    {
     "name": "stdout",
     "output_type": "stream",
     "text": [
      "Epoch [1/11] , Loss : 0.3630, accuracy : 0.8927\n",
      "Epoch [2/11] , Loss : 0.2867, accuracy : 0.9157\n",
      "Epoch [3/11] , Loss : 0.2379, accuracy : 0.9305\n",
      "Epoch [4/11] , Loss : 0.2069, accuracy : 0.9400\n",
      "Epoch [5/11] , Loss : 0.1849, accuracy : 0.9485\n",
      "Epoch [6/11] , Loss : 0.1726, accuracy : 0.9500\n",
      "Epoch [7/11] , Loss : 0.1615, accuracy : 0.9536\n",
      "Epoch [8/11] , Loss : 0.1519, accuracy : 0.9557\n",
      "Epoch [9/11] , Loss : 0.1464, accuracy : 0.9568\n",
      "Epoch [10/11] , Loss : 0.1389, accuracy : 0.9577\n",
      "Epoch [11/11] , Loss : 0.1358, accuracy : 0.9599\n"
     ]
    }
   ],
   "source": [
    "model=DigitFind()\n",
    "model.to(device)\n",
    "optimizer=optim.SGD(model.parameters(), lr=0.01, momentum=0.9)\n",
    "fit(11,model,F.cross_entropy,optimizer,train_loader,val_loader,accuracy)\n"
   ]
  },
  {
   "cell_type": "code",
   "execution_count": 33,
   "id": "8707aab9",
   "metadata": {
    "execution": {
     "iopub.execute_input": "2022-10-09T08:20:53.971271Z",
     "iopub.status.busy": "2022-10-09T08:20:53.970897Z",
     "iopub.status.idle": "2022-10-09T08:20:53.975945Z",
     "shell.execute_reply": "2022-10-09T08:20:53.974974Z"
    },
    "papermill": {
     "duration": 0.020305,
     "end_time": "2022-10-09T08:20:53.978028",
     "exception": false,
     "start_time": "2022-10-09T08:20:53.957723",
     "status": "completed"
    },
    "tags": []
   },
   "outputs": [],
   "source": [
    "# val_sampler=SubsetRandomSampler(val_indices)\n",
    "\n",
    "test_loader=DataLoader(test_dataset,batch_size=200)\n",
    "test_loader=DeviceDataLoader(test_loader,device)\n"
   ]
  },
  {
   "cell_type": "code",
   "execution_count": 34,
   "id": "d2766b1d",
   "metadata": {
    "execution": {
     "iopub.execute_input": "2022-10-09T08:20:54.004189Z",
     "iopub.status.busy": "2022-10-09T08:20:54.003727Z",
     "iopub.status.idle": "2022-10-09T08:20:54.976817Z",
     "shell.execute_reply": "2022-10-09T08:20:54.975995Z"
    },
    "papermill": {
     "duration": 0.988744,
     "end_time": "2022-10-09T08:20:54.979031",
     "exception": false,
     "start_time": "2022-10-09T08:20:53.990287",
     "status": "completed"
    },
    "tags": []
   },
   "outputs": [
    {
     "name": "stdout",
     "output_type": "stream",
     "text": [
      "Loss: 0.1219, Accuracy : 0.9621\n"
     ]
    }
   ],
   "source": [
    "# test_loader=DataLoader(test_dataset,batch_size=200)\n",
    "test_loss,total ,test_acc=evaluate(model,loss_fn,test_loader,metric=accuracy)\n",
    "print(\"Loss: {:.4f}, Accuracy : {:.4f}\".format(test_loss,test_acc))"
   ]
  },
  {
   "cell_type": "markdown",
   "id": "2edd0526",
   "metadata": {
    "papermill": {
     "duration": 0.011859,
     "end_time": "2022-10-09T08:20:55.003213",
     "exception": false,
     "start_time": "2022-10-09T08:20:54.991354",
     "status": "completed"
    },
    "tags": []
   },
   "source": [
    "**Saving the model**"
   ]
  },
  {
   "cell_type": "code",
   "execution_count": 35,
   "id": "dd480dc2",
   "metadata": {
    "execution": {
     "iopub.execute_input": "2022-10-09T08:20:55.029628Z",
     "iopub.status.busy": "2022-10-09T08:20:55.029014Z",
     "iopub.status.idle": "2022-10-09T08:20:55.042381Z",
     "shell.execute_reply": "2022-10-09T08:20:55.041269Z"
    },
    "papermill": {
     "duration": 0.029443,
     "end_time": "2022-10-09T08:20:55.044806",
     "exception": false,
     "start_time": "2022-10-09T08:20:55.015363",
     "status": "completed"
    },
    "tags": []
   },
   "outputs": [
    {
     "data": {
      "text/plain": [
       "OrderedDict([('fx1.weight',\n",
       "              tensor([[-0.0313,  0.0146, -0.0346,  ...,  0.0155, -0.0224,  0.0098],\n",
       "                      [ 0.0059, -0.0109, -0.0335,  ..., -0.0066, -0.0050,  0.0337],\n",
       "                      [-0.0161, -0.0118,  0.0310,  ...,  0.0226,  0.0180,  0.0250],\n",
       "                      ...,\n",
       "                      [-0.0087, -0.0250,  0.0323,  ...,  0.0215, -0.0187,  0.0190],\n",
       "                      [-0.0138,  0.0045, -0.0277,  ..., -0.0355,  0.0308, -0.0242],\n",
       "                      [-0.0137,  0.0258,  0.0040,  ..., -0.0341,  0.0331,  0.0234]])),\n",
       "             ('fx1.bias',\n",
       "              tensor([ 0.1554,  0.0908,  0.0049,  0.0941,  0.0508, -0.0107,  0.0018, -0.2114,\n",
       "                      -0.0734,  0.0075,  0.1310,  0.0561,  0.1490,  0.1303, -0.0647, -0.0341,\n",
       "                      -0.0875, -0.0129,  0.1159, -0.0040, -0.0111,  0.0812,  0.0751, -0.0466,\n",
       "                      -0.0709, -0.0853,  0.0494,  0.0535,  0.1314, -0.0286, -0.0307,  0.2218,\n",
       "                       0.0442,  0.0691,  0.1690,  0.0501,  0.0544, -0.1285,  0.0609,  0.0117,\n",
       "                      -0.0175,  0.0442, -0.0918,  0.0321, -0.1386,  0.0425, -0.0447,  0.0863,\n",
       "                       0.1536,  0.1298,  0.1000,  0.0092, -0.0181, -0.0864, -0.0608, -0.0177,\n",
       "                      -0.0044, -0.1105,  0.1681,  0.1911, -0.0235,  0.0870,  0.1058,  0.0124,\n",
       "                      -0.0722, -0.0017,  0.0895,  0.1709,  0.0286, -0.0802,  0.0472,  0.0634,\n",
       "                      -0.0133,  0.0386,  0.1406,  0.0026, -0.0597, -0.1345,  0.1056,  0.1356,\n",
       "                       0.0101,  0.0039, -0.0255, -0.0119,  0.0178, -0.0504, -0.0353,  0.1541,\n",
       "                       0.0928, -0.0410,  0.0424, -0.0936, -0.0218,  0.2028,  0.1611,  0.0287,\n",
       "                       0.0925, -0.0842, -0.0070,  0.1972,  0.0104, -0.0750, -0.1254, -0.0578,\n",
       "                       0.0269,  0.0014,  0.0983,  0.0569, -0.1417, -0.1211,  0.0079, -0.2454,\n",
       "                       0.1896, -0.1088, -0.0297,  0.0120,  0.0364,  0.0814,  0.0117,  0.0389,\n",
       "                       0.0729,  0.1738, -0.0201,  0.1524, -0.0302,  0.1034,  0.0166,  0.0139])),\n",
       "             ('fx2.weight',\n",
       "              tensor([[-0.1607,  0.0100, -0.1547,  ..., -0.4683,  0.0115, -0.1691],\n",
       "                      [ 0.1683,  0.0327,  0.3901,  ...,  0.1289,  0.0394, -0.0546],\n",
       "                      [ 0.2165,  0.4379, -0.2670,  ..., -0.2593, -0.6644, -0.2154],\n",
       "                      ...,\n",
       "                      [ 0.1301, -0.0912,  0.1230,  ...,  0.0308, -0.2595,  0.0193],\n",
       "                      [-0.6563, -0.1440, -0.2678,  ...,  0.1441,  0.2447, -0.5058],\n",
       "                      [ 0.1779, -0.2828, -0.1613,  ...,  0.2387,  0.0223,  0.2650]])),\n",
       "             ('fx2.bias',\n",
       "              tensor([-0.3055,  0.3503, -0.1643, -0.3574,  0.1082,  0.4062,  0.0748,  0.0959,\n",
       "                      -0.2621,  0.0523]))])"
      ]
     },
     "execution_count": 35,
     "metadata": {},
     "output_type": "execute_result"
    }
   ],
   "source": [
    "torch.save(model.state_dict(),\"digit_find.pth\")\n",
    "model.state_dict()"
   ]
  }
 ],
 "metadata": {
  "kernelspec": {
   "display_name": "Python 3",
   "language": "python",
   "name": "python3"
  },
  "language_info": {
   "codemirror_mode": {
    "name": "ipython",
    "version": 3
   },
   "file_extension": ".py",
   "mimetype": "text/x-python",
   "name": "python",
   "nbconvert_exporter": "python",
   "pygments_lexer": "ipython3",
   "version": "3.7.12"
  },
  "papermill": {
   "default_parameters": {},
   "duration": 89.748729,
   "end_time": "2022-10-09T08:20:55.882406",
   "environment_variables": {},
   "exception": null,
   "input_path": "__notebook__.ipynb",
   "output_path": "__notebook__.ipynb",
   "parameters": {},
   "start_time": "2022-10-09T08:19:26.133677",
   "version": "2.3.4"
  },
  "widgets": {
   "application/vnd.jupyter.widget-state+json": {
    "state": {
     "161ec54df94e47749cf26cf9c29a2a89": {
      "model_module": "@jupyter-widgets/base",
      "model_module_version": "1.2.0",
      "model_name": "LayoutModel",
      "state": {
       "_model_module": "@jupyter-widgets/base",
       "_model_module_version": "1.2.0",
       "_model_name": "LayoutModel",
       "_view_count": null,
       "_view_module": "@jupyter-widgets/base",
       "_view_module_version": "1.2.0",
       "_view_name": "LayoutView",
       "align_content": null,
       "align_items": null,
       "align_self": null,
       "border": null,
       "bottom": null,
       "display": null,
       "flex": null,
       "flex_flow": null,
       "grid_area": null,
       "grid_auto_columns": null,
       "grid_auto_flow": null,
       "grid_auto_rows": null,
       "grid_column": null,
       "grid_gap": null,
       "grid_row": null,
       "grid_template_areas": null,
       "grid_template_columns": null,
       "grid_template_rows": null,
       "height": null,
       "justify_content": null,
       "justify_items": null,
       "left": null,
       "margin": null,
       "max_height": null,
       "max_width": null,
       "min_height": null,
       "min_width": null,
       "object_fit": null,
       "object_position": null,
       "order": null,
       "overflow": null,
       "overflow_x": null,
       "overflow_y": null,
       "padding": null,
       "right": null,
       "top": null,
       "visibility": null,
       "width": null
      }
     },
     "1c2bd5d0fc524c3b9a18b1b1e9c58b9f": {
      "model_module": "@jupyter-widgets/controls",
      "model_module_version": "1.5.0",
      "model_name": "ProgressStyleModel",
      "state": {
       "_model_module": "@jupyter-widgets/controls",
       "_model_module_version": "1.5.0",
       "_model_name": "ProgressStyleModel",
       "_view_count": null,
       "_view_module": "@jupyter-widgets/base",
       "_view_module_version": "1.2.0",
       "_view_name": "StyleView",
       "bar_color": null,
       "description_width": ""
      }
     },
     "1f57769b5a8f4129b17bb8359ee60407": {
      "model_module": "@jupyter-widgets/base",
      "model_module_version": "1.2.0",
      "model_name": "LayoutModel",
      "state": {
       "_model_module": "@jupyter-widgets/base",
       "_model_module_version": "1.2.0",
       "_model_name": "LayoutModel",
       "_view_count": null,
       "_view_module": "@jupyter-widgets/base",
       "_view_module_version": "1.2.0",
       "_view_name": "LayoutView",
       "align_content": null,
       "align_items": null,
       "align_self": null,
       "border": null,
       "bottom": null,
       "display": null,
       "flex": null,
       "flex_flow": null,
       "grid_area": null,
       "grid_auto_columns": null,
       "grid_auto_flow": null,
       "grid_auto_rows": null,
       "grid_column": null,
       "grid_gap": null,
       "grid_row": null,
       "grid_template_areas": null,
       "grid_template_columns": null,
       "grid_template_rows": null,
       "height": null,
       "justify_content": null,
       "justify_items": null,
       "left": null,
       "margin": null,
       "max_height": null,
       "max_width": null,
       "min_height": null,
       "min_width": null,
       "object_fit": null,
       "object_position": null,
       "order": null,
       "overflow": null,
       "overflow_x": null,
       "overflow_y": null,
       "padding": null,
       "right": null,
       "top": null,
       "visibility": null,
       "width": null
      }
     },
     "22a0f25eb65449fbbb4fcdc2709740da": {
      "model_module": "@jupyter-widgets/base",
      "model_module_version": "1.2.0",
      "model_name": "LayoutModel",
      "state": {
       "_model_module": "@jupyter-widgets/base",
       "_model_module_version": "1.2.0",
       "_model_name": "LayoutModel",
       "_view_count": null,
       "_view_module": "@jupyter-widgets/base",
       "_view_module_version": "1.2.0",
       "_view_name": "LayoutView",
       "align_content": null,
       "align_items": null,
       "align_self": null,
       "border": null,
       "bottom": null,
       "display": null,
       "flex": null,
       "flex_flow": null,
       "grid_area": null,
       "grid_auto_columns": null,
       "grid_auto_flow": null,
       "grid_auto_rows": null,
       "grid_column": null,
       "grid_gap": null,
       "grid_row": null,
       "grid_template_areas": null,
       "grid_template_columns": null,
       "grid_template_rows": null,
       "height": null,
       "justify_content": null,
       "justify_items": null,
       "left": null,
       "margin": null,
       "max_height": null,
       "max_width": null,
       "min_height": null,
       "min_width": null,
       "object_fit": null,
       "object_position": null,
       "order": null,
       "overflow": null,
       "overflow_x": null,
       "overflow_y": null,
       "padding": null,
       "right": null,
       "top": null,
       "visibility": null,
       "width": null
      }
     },
     "22a6cef6bfae4570b5428c2d35391a03": {
      "model_module": "@jupyter-widgets/controls",
      "model_module_version": "1.5.0",
      "model_name": "HTMLModel",
      "state": {
       "_dom_classes": [],
       "_model_module": "@jupyter-widgets/controls",
       "_model_module_version": "1.5.0",
       "_model_name": "HTMLModel",
       "_view_count": null,
       "_view_module": "@jupyter-widgets/controls",
       "_view_module_version": "1.5.0",
       "_view_name": "HTMLView",
       "description": "",
       "description_tooltip": null,
       "layout": "IPY_MODEL_22a0f25eb65449fbbb4fcdc2709740da",
       "placeholder": "​",
       "style": "IPY_MODEL_82e5ca1781cf43b78e0b28bdfc32c219",
       "value": " 9913344/? [00:00&lt;00:00, 20211259.44it/s]"
      }
     },
     "27cf6c32abe441f395002b04b2b3baef": {
      "model_module": "@jupyter-widgets/controls",
      "model_module_version": "1.5.0",
      "model_name": "DescriptionStyleModel",
      "state": {
       "_model_module": "@jupyter-widgets/controls",
       "_model_module_version": "1.5.0",
       "_model_name": "DescriptionStyleModel",
       "_view_count": null,
       "_view_module": "@jupyter-widgets/base",
       "_view_module_version": "1.2.0",
       "_view_name": "StyleView",
       "description_width": ""
      }
     },
     "2b3bb37d85074251a74c6619e4012a81": {
      "model_module": "@jupyter-widgets/controls",
      "model_module_version": "1.5.0",
      "model_name": "HTMLModel",
      "state": {
       "_dom_classes": [],
       "_model_module": "@jupyter-widgets/controls",
       "_model_module_version": "1.5.0",
       "_model_name": "HTMLModel",
       "_view_count": null,
       "_view_module": "@jupyter-widgets/controls",
       "_view_module_version": "1.5.0",
       "_view_name": "HTMLView",
       "description": "",
       "description_tooltip": null,
       "layout": "IPY_MODEL_a9374c1552bb4cfdb7afb7d64dc755d3",
       "placeholder": "​",
       "style": "IPY_MODEL_4ac76f685c04470988430716dcf28580",
       "value": " 5120/? [00:00&lt;00:00, 185463.65it/s]"
      }
     },
     "2cf7568856b44b948e1928aee1d90f2a": {
      "model_module": "@jupyter-widgets/base",
      "model_module_version": "1.2.0",
      "model_name": "LayoutModel",
      "state": {
       "_model_module": "@jupyter-widgets/base",
       "_model_module_version": "1.2.0",
       "_model_name": "LayoutModel",
       "_view_count": null,
       "_view_module": "@jupyter-widgets/base",
       "_view_module_version": "1.2.0",
       "_view_name": "LayoutView",
       "align_content": null,
       "align_items": null,
       "align_self": null,
       "border": null,
       "bottom": null,
       "display": null,
       "flex": null,
       "flex_flow": null,
       "grid_area": null,
       "grid_auto_columns": null,
       "grid_auto_flow": null,
       "grid_auto_rows": null,
       "grid_column": null,
       "grid_gap": null,
       "grid_row": null,
       "grid_template_areas": null,
       "grid_template_columns": null,
       "grid_template_rows": null,
       "height": null,
       "justify_content": null,
       "justify_items": null,
       "left": null,
       "margin": null,
       "max_height": null,
       "max_width": null,
       "min_height": null,
       "min_width": null,
       "object_fit": null,
       "object_position": null,
       "order": null,
       "overflow": null,
       "overflow_x": null,
       "overflow_y": null,
       "padding": null,
       "right": null,
       "top": null,
       "visibility": null,
       "width": null
      }
     },
     "2e26b222161147b5946e3ed6db8ff90e": {
      "model_module": "@jupyter-widgets/base",
      "model_module_version": "1.2.0",
      "model_name": "LayoutModel",
      "state": {
       "_model_module": "@jupyter-widgets/base",
       "_model_module_version": "1.2.0",
       "_model_name": "LayoutModel",
       "_view_count": null,
       "_view_module": "@jupyter-widgets/base",
       "_view_module_version": "1.2.0",
       "_view_name": "LayoutView",
       "align_content": null,
       "align_items": null,
       "align_self": null,
       "border": null,
       "bottom": null,
       "display": null,
       "flex": null,
       "flex_flow": null,
       "grid_area": null,
       "grid_auto_columns": null,
       "grid_auto_flow": null,
       "grid_auto_rows": null,
       "grid_column": null,
       "grid_gap": null,
       "grid_row": null,
       "grid_template_areas": null,
       "grid_template_columns": null,
       "grid_template_rows": null,
       "height": null,
       "justify_content": null,
       "justify_items": null,
       "left": null,
       "margin": null,
       "max_height": null,
       "max_width": null,
       "min_height": null,
       "min_width": null,
       "object_fit": null,
       "object_position": null,
       "order": null,
       "overflow": null,
       "overflow_x": null,
       "overflow_y": null,
       "padding": null,
       "right": null,
       "top": null,
       "visibility": null,
       "width": null
      }
     },
     "32e999612e1542b4a89354ba8b72ae76": {
      "model_module": "@jupyter-widgets/controls",
      "model_module_version": "1.5.0",
      "model_name": "HBoxModel",
      "state": {
       "_dom_classes": [],
       "_model_module": "@jupyter-widgets/controls",
       "_model_module_version": "1.5.0",
       "_model_name": "HBoxModel",
       "_view_count": null,
       "_view_module": "@jupyter-widgets/controls",
       "_view_module_version": "1.5.0",
       "_view_name": "HBoxView",
       "box_style": "",
       "children": [
        "IPY_MODEL_709106c549ca4d01933ac71741e584d9",
        "IPY_MODEL_4c5882e2a1ac43fc82f994259e8f6972",
        "IPY_MODEL_2b3bb37d85074251a74c6619e4012a81"
       ],
       "layout": "IPY_MODEL_5d99c57060a544a2a1ba9e1bb206734b"
      }
     },
     "3b5c697875c242a0a358b1816e89f34b": {
      "model_module": "@jupyter-widgets/base",
      "model_module_version": "1.2.0",
      "model_name": "LayoutModel",
      "state": {
       "_model_module": "@jupyter-widgets/base",
       "_model_module_version": "1.2.0",
       "_model_name": "LayoutModel",
       "_view_count": null,
       "_view_module": "@jupyter-widgets/base",
       "_view_module_version": "1.2.0",
       "_view_name": "LayoutView",
       "align_content": null,
       "align_items": null,
       "align_self": null,
       "border": null,
       "bottom": null,
       "display": null,
       "flex": null,
       "flex_flow": null,
       "grid_area": null,
       "grid_auto_columns": null,
       "grid_auto_flow": null,
       "grid_auto_rows": null,
       "grid_column": null,
       "grid_gap": null,
       "grid_row": null,
       "grid_template_areas": null,
       "grid_template_columns": null,
       "grid_template_rows": null,
       "height": null,
       "justify_content": null,
       "justify_items": null,
       "left": null,
       "margin": null,
       "max_height": null,
       "max_width": null,
       "min_height": null,
       "min_width": null,
       "object_fit": null,
       "object_position": null,
       "order": null,
       "overflow": null,
       "overflow_x": null,
       "overflow_y": null,
       "padding": null,
       "right": null,
       "top": null,
       "visibility": null,
       "width": null
      }
     },
     "46816bf6ad8d4ceda6955a73e9be0fa3": {
      "model_module": "@jupyter-widgets/controls",
      "model_module_version": "1.5.0",
      "model_name": "HTMLModel",
      "state": {
       "_dom_classes": [],
       "_model_module": "@jupyter-widgets/controls",
       "_model_module_version": "1.5.0",
       "_model_name": "HTMLModel",
       "_view_count": null,
       "_view_module": "@jupyter-widgets/controls",
       "_view_module_version": "1.5.0",
       "_view_name": "HTMLView",
       "description": "",
       "description_tooltip": null,
       "layout": "IPY_MODEL_2e26b222161147b5946e3ed6db8ff90e",
       "placeholder": "​",
       "style": "IPY_MODEL_d9d2cf8082d8425fb34249f9aa344bfb",
       "value": " 29696/? [00:00&lt;00:00, 1040126.03it/s]"
      }
     },
     "49c6bfbb1926405f81be92ffe4141c22": {
      "model_module": "@jupyter-widgets/controls",
      "model_module_version": "1.5.0",
      "model_name": "HTMLModel",
      "state": {
       "_dom_classes": [],
       "_model_module": "@jupyter-widgets/controls",
       "_model_module_version": "1.5.0",
       "_model_name": "HTMLModel",
       "_view_count": null,
       "_view_module": "@jupyter-widgets/controls",
       "_view_module_version": "1.5.0",
       "_view_name": "HTMLView",
       "description": "",
       "description_tooltip": null,
       "layout": "IPY_MODEL_ca16f8b4a23a4d92a3432826ad79a3a1",
       "placeholder": "​",
       "style": "IPY_MODEL_852f1b6fbcee40e8b5365d33ce77545d",
       "value": ""
      }
     },
     "4a6daf84f7084169aa6b893d1de0f3e8": {
      "model_module": "@jupyter-widgets/controls",
      "model_module_version": "1.5.0",
      "model_name": "FloatProgressModel",
      "state": {
       "_dom_classes": [],
       "_model_module": "@jupyter-widgets/controls",
       "_model_module_version": "1.5.0",
       "_model_name": "FloatProgressModel",
       "_view_count": null,
       "_view_module": "@jupyter-widgets/controls",
       "_view_module_version": "1.5.0",
       "_view_name": "ProgressView",
       "bar_style": "success",
       "description": "",
       "description_tooltip": null,
       "layout": "IPY_MODEL_e5ab12a0409f4c21abb62087a90dc29b",
       "max": 28881.0,
       "min": 0.0,
       "orientation": "horizontal",
       "style": "IPY_MODEL_6b3e29ead9104a52be8f1728dea1e792",
       "value": 28881.0
      }
     },
     "4ac76f685c04470988430716dcf28580": {
      "model_module": "@jupyter-widgets/controls",
      "model_module_version": "1.5.0",
      "model_name": "DescriptionStyleModel",
      "state": {
       "_model_module": "@jupyter-widgets/controls",
       "_model_module_version": "1.5.0",
       "_model_name": "DescriptionStyleModel",
       "_view_count": null,
       "_view_module": "@jupyter-widgets/base",
       "_view_module_version": "1.2.0",
       "_view_name": "StyleView",
       "description_width": ""
      }
     },
     "4b495439efe34a23bf337f3d2f8cc527": {
      "model_module": "@jupyter-widgets/controls",
      "model_module_version": "1.5.0",
      "model_name": "ProgressStyleModel",
      "state": {
       "_model_module": "@jupyter-widgets/controls",
       "_model_module_version": "1.5.0",
       "_model_name": "ProgressStyleModel",
       "_view_count": null,
       "_view_module": "@jupyter-widgets/base",
       "_view_module_version": "1.2.0",
       "_view_name": "StyleView",
       "bar_color": null,
       "description_width": ""
      }
     },
     "4c5882e2a1ac43fc82f994259e8f6972": {
      "model_module": "@jupyter-widgets/controls",
      "model_module_version": "1.5.0",
      "model_name": "FloatProgressModel",
      "state": {
       "_dom_classes": [],
       "_model_module": "@jupyter-widgets/controls",
       "_model_module_version": "1.5.0",
       "_model_name": "FloatProgressModel",
       "_view_count": null,
       "_view_module": "@jupyter-widgets/controls",
       "_view_module_version": "1.5.0",
       "_view_name": "ProgressView",
       "bar_style": "success",
       "description": "",
       "description_tooltip": null,
       "layout": "IPY_MODEL_3b5c697875c242a0a358b1816e89f34b",
       "max": 4542.0,
       "min": 0.0,
       "orientation": "horizontal",
       "style": "IPY_MODEL_1c2bd5d0fc524c3b9a18b1b1e9c58b9f",
       "value": 4542.0
      }
     },
     "508bd751367c483d85dcc9d737b2ba5f": {
      "model_module": "@jupyter-widgets/controls",
      "model_module_version": "1.5.0",
      "model_name": "DescriptionStyleModel",
      "state": {
       "_model_module": "@jupyter-widgets/controls",
       "_model_module_version": "1.5.0",
       "_model_name": "DescriptionStyleModel",
       "_view_count": null,
       "_view_module": "@jupyter-widgets/base",
       "_view_module_version": "1.2.0",
       "_view_name": "StyleView",
       "description_width": ""
      }
     },
     "5284d96fe6684eb3b66ad59bb5bde030": {
      "model_module": "@jupyter-widgets/controls",
      "model_module_version": "1.5.0",
      "model_name": "DescriptionStyleModel",
      "state": {
       "_model_module": "@jupyter-widgets/controls",
       "_model_module_version": "1.5.0",
       "_model_name": "DescriptionStyleModel",
       "_view_count": null,
       "_view_module": "@jupyter-widgets/base",
       "_view_module_version": "1.2.0",
       "_view_name": "StyleView",
       "description_width": ""
      }
     },
     "5a02c350db934a13aed00061740fe9b8": {
      "model_module": "@jupyter-widgets/controls",
      "model_module_version": "1.5.0",
      "model_name": "HBoxModel",
      "state": {
       "_dom_classes": [],
       "_model_module": "@jupyter-widgets/controls",
       "_model_module_version": "1.5.0",
       "_model_name": "HBoxModel",
       "_view_count": null,
       "_view_module": "@jupyter-widgets/controls",
       "_view_module_version": "1.5.0",
       "_view_name": "HBoxView",
       "box_style": "",
       "children": [
        "IPY_MODEL_49c6bfbb1926405f81be92ffe4141c22",
        "IPY_MODEL_a2eda507efd54451a5d8bda4fa813f11",
        "IPY_MODEL_b29fb5fe0b8749e2bfb03a43e5bd6717"
       ],
       "layout": "IPY_MODEL_9a21258020154f8e939f26910e658fa3"
      }
     },
     "5d99c57060a544a2a1ba9e1bb206734b": {
      "model_module": "@jupyter-widgets/base",
      "model_module_version": "1.2.0",
      "model_name": "LayoutModel",
      "state": {
       "_model_module": "@jupyter-widgets/base",
       "_model_module_version": "1.2.0",
       "_model_name": "LayoutModel",
       "_view_count": null,
       "_view_module": "@jupyter-widgets/base",
       "_view_module_version": "1.2.0",
       "_view_name": "LayoutView",
       "align_content": null,
       "align_items": null,
       "align_self": null,
       "border": null,
       "bottom": null,
       "display": null,
       "flex": null,
       "flex_flow": null,
       "grid_area": null,
       "grid_auto_columns": null,
       "grid_auto_flow": null,
       "grid_auto_rows": null,
       "grid_column": null,
       "grid_gap": null,
       "grid_row": null,
       "grid_template_areas": null,
       "grid_template_columns": null,
       "grid_template_rows": null,
       "height": null,
       "justify_content": null,
       "justify_items": null,
       "left": null,
       "margin": null,
       "max_height": null,
       "max_width": null,
       "min_height": null,
       "min_width": null,
       "object_fit": null,
       "object_position": null,
       "order": null,
       "overflow": null,
       "overflow_x": null,
       "overflow_y": null,
       "padding": null,
       "right": null,
       "top": null,
       "visibility": null,
       "width": null
      }
     },
     "6b185a8f1b5644a2825f27de183ec423": {
      "model_module": "@jupyter-widgets/base",
      "model_module_version": "1.2.0",
      "model_name": "LayoutModel",
      "state": {
       "_model_module": "@jupyter-widgets/base",
       "_model_module_version": "1.2.0",
       "_model_name": "LayoutModel",
       "_view_count": null,
       "_view_module": "@jupyter-widgets/base",
       "_view_module_version": "1.2.0",
       "_view_name": "LayoutView",
       "align_content": null,
       "align_items": null,
       "align_self": null,
       "border": null,
       "bottom": null,
       "display": null,
       "flex": null,
       "flex_flow": null,
       "grid_area": null,
       "grid_auto_columns": null,
       "grid_auto_flow": null,
       "grid_auto_rows": null,
       "grid_column": null,
       "grid_gap": null,
       "grid_row": null,
       "grid_template_areas": null,
       "grid_template_columns": null,
       "grid_template_rows": null,
       "height": null,
       "justify_content": null,
       "justify_items": null,
       "left": null,
       "margin": null,
       "max_height": null,
       "max_width": null,
       "min_height": null,
       "min_width": null,
       "object_fit": null,
       "object_position": null,
       "order": null,
       "overflow": null,
       "overflow_x": null,
       "overflow_y": null,
       "padding": null,
       "right": null,
       "top": null,
       "visibility": null,
       "width": null
      }
     },
     "6b3e29ead9104a52be8f1728dea1e792": {
      "model_module": "@jupyter-widgets/controls",
      "model_module_version": "1.5.0",
      "model_name": "ProgressStyleModel",
      "state": {
       "_model_module": "@jupyter-widgets/controls",
       "_model_module_version": "1.5.0",
       "_model_name": "ProgressStyleModel",
       "_view_count": null,
       "_view_module": "@jupyter-widgets/base",
       "_view_module_version": "1.2.0",
       "_view_name": "StyleView",
       "bar_color": null,
       "description_width": ""
      }
     },
     "709106c549ca4d01933ac71741e584d9": {
      "model_module": "@jupyter-widgets/controls",
      "model_module_version": "1.5.0",
      "model_name": "HTMLModel",
      "state": {
       "_dom_classes": [],
       "_model_module": "@jupyter-widgets/controls",
       "_model_module_version": "1.5.0",
       "_model_name": "HTMLModel",
       "_view_count": null,
       "_view_module": "@jupyter-widgets/controls",
       "_view_module_version": "1.5.0",
       "_view_name": "HTMLView",
       "description": "",
       "description_tooltip": null,
       "layout": "IPY_MODEL_161ec54df94e47749cf26cf9c29a2a89",
       "placeholder": "​",
       "style": "IPY_MODEL_9e48f2a2b6fd454e92427f34b9e9532a",
       "value": ""
      }
     },
     "714a877056ec4bd78190899ff901668e": {
      "model_module": "@jupyter-widgets/controls",
      "model_module_version": "1.5.0",
      "model_name": "HTMLModel",
      "state": {
       "_dom_classes": [],
       "_model_module": "@jupyter-widgets/controls",
       "_model_module_version": "1.5.0",
       "_model_name": "HTMLModel",
       "_view_count": null,
       "_view_module": "@jupyter-widgets/controls",
       "_view_module_version": "1.5.0",
       "_view_name": "HTMLView",
       "description": "",
       "description_tooltip": null,
       "layout": "IPY_MODEL_bb6bbb74637d4795af5393a81893d15a",
       "placeholder": "​",
       "style": "IPY_MODEL_508bd751367c483d85dcc9d737b2ba5f",
       "value": ""
      }
     },
     "79991b38d274474997192ae154e133e3": {
      "model_module": "@jupyter-widgets/base",
      "model_module_version": "1.2.0",
      "model_name": "LayoutModel",
      "state": {
       "_model_module": "@jupyter-widgets/base",
       "_model_module_version": "1.2.0",
       "_model_name": "LayoutModel",
       "_view_count": null,
       "_view_module": "@jupyter-widgets/base",
       "_view_module_version": "1.2.0",
       "_view_name": "LayoutView",
       "align_content": null,
       "align_items": null,
       "align_self": null,
       "border": null,
       "bottom": null,
       "display": null,
       "flex": null,
       "flex_flow": null,
       "grid_area": null,
       "grid_auto_columns": null,
       "grid_auto_flow": null,
       "grid_auto_rows": null,
       "grid_column": null,
       "grid_gap": null,
       "grid_row": null,
       "grid_template_areas": null,
       "grid_template_columns": null,
       "grid_template_rows": null,
       "height": null,
       "justify_content": null,
       "justify_items": null,
       "left": null,
       "margin": null,
       "max_height": null,
       "max_width": null,
       "min_height": null,
       "min_width": null,
       "object_fit": null,
       "object_position": null,
       "order": null,
       "overflow": null,
       "overflow_x": null,
       "overflow_y": null,
       "padding": null,
       "right": null,
       "top": null,
       "visibility": null,
       "width": null
      }
     },
     "82e5ca1781cf43b78e0b28bdfc32c219": {
      "model_module": "@jupyter-widgets/controls",
      "model_module_version": "1.5.0",
      "model_name": "DescriptionStyleModel",
      "state": {
       "_model_module": "@jupyter-widgets/controls",
       "_model_module_version": "1.5.0",
       "_model_name": "DescriptionStyleModel",
       "_view_count": null,
       "_view_module": "@jupyter-widgets/base",
       "_view_module_version": "1.2.0",
       "_view_name": "StyleView",
       "description_width": ""
      }
     },
     "852f1b6fbcee40e8b5365d33ce77545d": {
      "model_module": "@jupyter-widgets/controls",
      "model_module_version": "1.5.0",
      "model_name": "DescriptionStyleModel",
      "state": {
       "_model_module": "@jupyter-widgets/controls",
       "_model_module_version": "1.5.0",
       "_model_name": "DescriptionStyleModel",
       "_view_count": null,
       "_view_module": "@jupyter-widgets/base",
       "_view_module_version": "1.2.0",
       "_view_name": "StyleView",
       "description_width": ""
      }
     },
     "8a0755cce15f4a2fb36b1033e2846e3d": {
      "model_module": "@jupyter-widgets/controls",
      "model_module_version": "1.5.0",
      "model_name": "HTMLModel",
      "state": {
       "_dom_classes": [],
       "_model_module": "@jupyter-widgets/controls",
       "_model_module_version": "1.5.0",
       "_model_name": "HTMLModel",
       "_view_count": null,
       "_view_module": "@jupyter-widgets/controls",
       "_view_module_version": "1.5.0",
       "_view_name": "HTMLView",
       "description": "",
       "description_tooltip": null,
       "layout": "IPY_MODEL_b42cd3f25ba84be8ac5aa808a4a73bb9",
       "placeholder": "​",
       "style": "IPY_MODEL_27cf6c32abe441f395002b04b2b3baef",
       "value": ""
      }
     },
     "9a21258020154f8e939f26910e658fa3": {
      "model_module": "@jupyter-widgets/base",
      "model_module_version": "1.2.0",
      "model_name": "LayoutModel",
      "state": {
       "_model_module": "@jupyter-widgets/base",
       "_model_module_version": "1.2.0",
       "_model_name": "LayoutModel",
       "_view_count": null,
       "_view_module": "@jupyter-widgets/base",
       "_view_module_version": "1.2.0",
       "_view_name": "LayoutView",
       "align_content": null,
       "align_items": null,
       "align_self": null,
       "border": null,
       "bottom": null,
       "display": null,
       "flex": null,
       "flex_flow": null,
       "grid_area": null,
       "grid_auto_columns": null,
       "grid_auto_flow": null,
       "grid_auto_rows": null,
       "grid_column": null,
       "grid_gap": null,
       "grid_row": null,
       "grid_template_areas": null,
       "grid_template_columns": null,
       "grid_template_rows": null,
       "height": null,
       "justify_content": null,
       "justify_items": null,
       "left": null,
       "margin": null,
       "max_height": null,
       "max_width": null,
       "min_height": null,
       "min_width": null,
       "object_fit": null,
       "object_position": null,
       "order": null,
       "overflow": null,
       "overflow_x": null,
       "overflow_y": null,
       "padding": null,
       "right": null,
       "top": null,
       "visibility": null,
       "width": null
      }
     },
     "9e48f2a2b6fd454e92427f34b9e9532a": {
      "model_module": "@jupyter-widgets/controls",
      "model_module_version": "1.5.0",
      "model_name": "DescriptionStyleModel",
      "state": {
       "_model_module": "@jupyter-widgets/controls",
       "_model_module_version": "1.5.0",
       "_model_name": "DescriptionStyleModel",
       "_view_count": null,
       "_view_module": "@jupyter-widgets/base",
       "_view_module_version": "1.2.0",
       "_view_name": "StyleView",
       "description_width": ""
      }
     },
     "a2eda507efd54451a5d8bda4fa813f11": {
      "model_module": "@jupyter-widgets/controls",
      "model_module_version": "1.5.0",
      "model_name": "FloatProgressModel",
      "state": {
       "_dom_classes": [],
       "_model_module": "@jupyter-widgets/controls",
       "_model_module_version": "1.5.0",
       "_model_name": "FloatProgressModel",
       "_view_count": null,
       "_view_module": "@jupyter-widgets/controls",
       "_view_module_version": "1.5.0",
       "_view_name": "ProgressView",
       "bar_style": "success",
       "description": "",
       "description_tooltip": null,
       "layout": "IPY_MODEL_1f57769b5a8f4129b17bb8359ee60407",
       "max": 1648877.0,
       "min": 0.0,
       "orientation": "horizontal",
       "style": "IPY_MODEL_d8af8ded05604514b32b2df16c9a4f1f",
       "value": 1648877.0
      }
     },
     "a3e2f869169b4ab2820898cf801e2fcf": {
      "model_module": "@jupyter-widgets/controls",
      "model_module_version": "1.5.0",
      "model_name": "HBoxModel",
      "state": {
       "_dom_classes": [],
       "_model_module": "@jupyter-widgets/controls",
       "_model_module_version": "1.5.0",
       "_model_name": "HBoxModel",
       "_view_count": null,
       "_view_module": "@jupyter-widgets/controls",
       "_view_module_version": "1.5.0",
       "_view_name": "HBoxView",
       "box_style": "",
       "children": [
        "IPY_MODEL_8a0755cce15f4a2fb36b1033e2846e3d",
        "IPY_MODEL_4a6daf84f7084169aa6b893d1de0f3e8",
        "IPY_MODEL_46816bf6ad8d4ceda6955a73e9be0fa3"
       ],
       "layout": "IPY_MODEL_79991b38d274474997192ae154e133e3"
      }
     },
     "a9374c1552bb4cfdb7afb7d64dc755d3": {
      "model_module": "@jupyter-widgets/base",
      "model_module_version": "1.2.0",
      "model_name": "LayoutModel",
      "state": {
       "_model_module": "@jupyter-widgets/base",
       "_model_module_version": "1.2.0",
       "_model_name": "LayoutModel",
       "_view_count": null,
       "_view_module": "@jupyter-widgets/base",
       "_view_module_version": "1.2.0",
       "_view_name": "LayoutView",
       "align_content": null,
       "align_items": null,
       "align_self": null,
       "border": null,
       "bottom": null,
       "display": null,
       "flex": null,
       "flex_flow": null,
       "grid_area": null,
       "grid_auto_columns": null,
       "grid_auto_flow": null,
       "grid_auto_rows": null,
       "grid_column": null,
       "grid_gap": null,
       "grid_row": null,
       "grid_template_areas": null,
       "grid_template_columns": null,
       "grid_template_rows": null,
       "height": null,
       "justify_content": null,
       "justify_items": null,
       "left": null,
       "margin": null,
       "max_height": null,
       "max_width": null,
       "min_height": null,
       "min_width": null,
       "object_fit": null,
       "object_position": null,
       "order": null,
       "overflow": null,
       "overflow_x": null,
       "overflow_y": null,
       "padding": null,
       "right": null,
       "top": null,
       "visibility": null,
       "width": null
      }
     },
     "b29fb5fe0b8749e2bfb03a43e5bd6717": {
      "model_module": "@jupyter-widgets/controls",
      "model_module_version": "1.5.0",
      "model_name": "HTMLModel",
      "state": {
       "_dom_classes": [],
       "_model_module": "@jupyter-widgets/controls",
       "_model_module_version": "1.5.0",
       "_model_name": "HTMLModel",
       "_view_count": null,
       "_view_module": "@jupyter-widgets/controls",
       "_view_module_version": "1.5.0",
       "_view_name": "HTMLView",
       "description": "",
       "description_tooltip": null,
       "layout": "IPY_MODEL_bbe9324dd64a46ee8506bc2778cfbeb9",
       "placeholder": "​",
       "style": "IPY_MODEL_5284d96fe6684eb3b66ad59bb5bde030",
       "value": " 1649664/? [00:00&lt;00:00, 2937980.20it/s]"
      }
     },
     "b42cd3f25ba84be8ac5aa808a4a73bb9": {
      "model_module": "@jupyter-widgets/base",
      "model_module_version": "1.2.0",
      "model_name": "LayoutModel",
      "state": {
       "_model_module": "@jupyter-widgets/base",
       "_model_module_version": "1.2.0",
       "_model_name": "LayoutModel",
       "_view_count": null,
       "_view_module": "@jupyter-widgets/base",
       "_view_module_version": "1.2.0",
       "_view_name": "LayoutView",
       "align_content": null,
       "align_items": null,
       "align_self": null,
       "border": null,
       "bottom": null,
       "display": null,
       "flex": null,
       "flex_flow": null,
       "grid_area": null,
       "grid_auto_columns": null,
       "grid_auto_flow": null,
       "grid_auto_rows": null,
       "grid_column": null,
       "grid_gap": null,
       "grid_row": null,
       "grid_template_areas": null,
       "grid_template_columns": null,
       "grid_template_rows": null,
       "height": null,
       "justify_content": null,
       "justify_items": null,
       "left": null,
       "margin": null,
       "max_height": null,
       "max_width": null,
       "min_height": null,
       "min_width": null,
       "object_fit": null,
       "object_position": null,
       "order": null,
       "overflow": null,
       "overflow_x": null,
       "overflow_y": null,
       "padding": null,
       "right": null,
       "top": null,
       "visibility": null,
       "width": null
      }
     },
     "bb6bbb74637d4795af5393a81893d15a": {
      "model_module": "@jupyter-widgets/base",
      "model_module_version": "1.2.0",
      "model_name": "LayoutModel",
      "state": {
       "_model_module": "@jupyter-widgets/base",
       "_model_module_version": "1.2.0",
       "_model_name": "LayoutModel",
       "_view_count": null,
       "_view_module": "@jupyter-widgets/base",
       "_view_module_version": "1.2.0",
       "_view_name": "LayoutView",
       "align_content": null,
       "align_items": null,
       "align_self": null,
       "border": null,
       "bottom": null,
       "display": null,
       "flex": null,
       "flex_flow": null,
       "grid_area": null,
       "grid_auto_columns": null,
       "grid_auto_flow": null,
       "grid_auto_rows": null,
       "grid_column": null,
       "grid_gap": null,
       "grid_row": null,
       "grid_template_areas": null,
       "grid_template_columns": null,
       "grid_template_rows": null,
       "height": null,
       "justify_content": null,
       "justify_items": null,
       "left": null,
       "margin": null,
       "max_height": null,
       "max_width": null,
       "min_height": null,
       "min_width": null,
       "object_fit": null,
       "object_position": null,
       "order": null,
       "overflow": null,
       "overflow_x": null,
       "overflow_y": null,
       "padding": null,
       "right": null,
       "top": null,
       "visibility": null,
       "width": null
      }
     },
     "bbe9324dd64a46ee8506bc2778cfbeb9": {
      "model_module": "@jupyter-widgets/base",
      "model_module_version": "1.2.0",
      "model_name": "LayoutModel",
      "state": {
       "_model_module": "@jupyter-widgets/base",
       "_model_module_version": "1.2.0",
       "_model_name": "LayoutModel",
       "_view_count": null,
       "_view_module": "@jupyter-widgets/base",
       "_view_module_version": "1.2.0",
       "_view_name": "LayoutView",
       "align_content": null,
       "align_items": null,
       "align_self": null,
       "border": null,
       "bottom": null,
       "display": null,
       "flex": null,
       "flex_flow": null,
       "grid_area": null,
       "grid_auto_columns": null,
       "grid_auto_flow": null,
       "grid_auto_rows": null,
       "grid_column": null,
       "grid_gap": null,
       "grid_row": null,
       "grid_template_areas": null,
       "grid_template_columns": null,
       "grid_template_rows": null,
       "height": null,
       "justify_content": null,
       "justify_items": null,
       "left": null,
       "margin": null,
       "max_height": null,
       "max_width": null,
       "min_height": null,
       "min_width": null,
       "object_fit": null,
       "object_position": null,
       "order": null,
       "overflow": null,
       "overflow_x": null,
       "overflow_y": null,
       "padding": null,
       "right": null,
       "top": null,
       "visibility": null,
       "width": null
      }
     },
     "ca16f8b4a23a4d92a3432826ad79a3a1": {
      "model_module": "@jupyter-widgets/base",
      "model_module_version": "1.2.0",
      "model_name": "LayoutModel",
      "state": {
       "_model_module": "@jupyter-widgets/base",
       "_model_module_version": "1.2.0",
       "_model_name": "LayoutModel",
       "_view_count": null,
       "_view_module": "@jupyter-widgets/base",
       "_view_module_version": "1.2.0",
       "_view_name": "LayoutView",
       "align_content": null,
       "align_items": null,
       "align_self": null,
       "border": null,
       "bottom": null,
       "display": null,
       "flex": null,
       "flex_flow": null,
       "grid_area": null,
       "grid_auto_columns": null,
       "grid_auto_flow": null,
       "grid_auto_rows": null,
       "grid_column": null,
       "grid_gap": null,
       "grid_row": null,
       "grid_template_areas": null,
       "grid_template_columns": null,
       "grid_template_rows": null,
       "height": null,
       "justify_content": null,
       "justify_items": null,
       "left": null,
       "margin": null,
       "max_height": null,
       "max_width": null,
       "min_height": null,
       "min_width": null,
       "object_fit": null,
       "object_position": null,
       "order": null,
       "overflow": null,
       "overflow_x": null,
       "overflow_y": null,
       "padding": null,
       "right": null,
       "top": null,
       "visibility": null,
       "width": null
      }
     },
     "d80d815506b240c69d432fb540ddda79": {
      "model_module": "@jupyter-widgets/controls",
      "model_module_version": "1.5.0",
      "model_name": "HBoxModel",
      "state": {
       "_dom_classes": [],
       "_model_module": "@jupyter-widgets/controls",
       "_model_module_version": "1.5.0",
       "_model_name": "HBoxModel",
       "_view_count": null,
       "_view_module": "@jupyter-widgets/controls",
       "_view_module_version": "1.5.0",
       "_view_name": "HBoxView",
       "box_style": "",
       "children": [
        "IPY_MODEL_714a877056ec4bd78190899ff901668e",
        "IPY_MODEL_f102359f469a46568b4b32710f9dd159",
        "IPY_MODEL_22a6cef6bfae4570b5428c2d35391a03"
       ],
       "layout": "IPY_MODEL_2cf7568856b44b948e1928aee1d90f2a"
      }
     },
     "d8af8ded05604514b32b2df16c9a4f1f": {
      "model_module": "@jupyter-widgets/controls",
      "model_module_version": "1.5.0",
      "model_name": "ProgressStyleModel",
      "state": {
       "_model_module": "@jupyter-widgets/controls",
       "_model_module_version": "1.5.0",
       "_model_name": "ProgressStyleModel",
       "_view_count": null,
       "_view_module": "@jupyter-widgets/base",
       "_view_module_version": "1.2.0",
       "_view_name": "StyleView",
       "bar_color": null,
       "description_width": ""
      }
     },
     "d9d2cf8082d8425fb34249f9aa344bfb": {
      "model_module": "@jupyter-widgets/controls",
      "model_module_version": "1.5.0",
      "model_name": "DescriptionStyleModel",
      "state": {
       "_model_module": "@jupyter-widgets/controls",
       "_model_module_version": "1.5.0",
       "_model_name": "DescriptionStyleModel",
       "_view_count": null,
       "_view_module": "@jupyter-widgets/base",
       "_view_module_version": "1.2.0",
       "_view_name": "StyleView",
       "description_width": ""
      }
     },
     "e5ab12a0409f4c21abb62087a90dc29b": {
      "model_module": "@jupyter-widgets/base",
      "model_module_version": "1.2.0",
      "model_name": "LayoutModel",
      "state": {
       "_model_module": "@jupyter-widgets/base",
       "_model_module_version": "1.2.0",
       "_model_name": "LayoutModel",
       "_view_count": null,
       "_view_module": "@jupyter-widgets/base",
       "_view_module_version": "1.2.0",
       "_view_name": "LayoutView",
       "align_content": null,
       "align_items": null,
       "align_self": null,
       "border": null,
       "bottom": null,
       "display": null,
       "flex": null,
       "flex_flow": null,
       "grid_area": null,
       "grid_auto_columns": null,
       "grid_auto_flow": null,
       "grid_auto_rows": null,
       "grid_column": null,
       "grid_gap": null,
       "grid_row": null,
       "grid_template_areas": null,
       "grid_template_columns": null,
       "grid_template_rows": null,
       "height": null,
       "justify_content": null,
       "justify_items": null,
       "left": null,
       "margin": null,
       "max_height": null,
       "max_width": null,
       "min_height": null,
       "min_width": null,
       "object_fit": null,
       "object_position": null,
       "order": null,
       "overflow": null,
       "overflow_x": null,
       "overflow_y": null,
       "padding": null,
       "right": null,
       "top": null,
       "visibility": null,
       "width": null
      }
     },
     "f102359f469a46568b4b32710f9dd159": {
      "model_module": "@jupyter-widgets/controls",
      "model_module_version": "1.5.0",
      "model_name": "FloatProgressModel",
      "state": {
       "_dom_classes": [],
       "_model_module": "@jupyter-widgets/controls",
       "_model_module_version": "1.5.0",
       "_model_name": "FloatProgressModel",
       "_view_count": null,
       "_view_module": "@jupyter-widgets/controls",
       "_view_module_version": "1.5.0",
       "_view_name": "ProgressView",
       "bar_style": "success",
       "description": "",
       "description_tooltip": null,
       "layout": "IPY_MODEL_6b185a8f1b5644a2825f27de183ec423",
       "max": 9912422.0,
       "min": 0.0,
       "orientation": "horizontal",
       "style": "IPY_MODEL_4b495439efe34a23bf337f3d2f8cc527",
       "value": 9912422.0
      }
     }
    },
    "version_major": 2,
    "version_minor": 0
   }
  }
 },
 "nbformat": 4,
 "nbformat_minor": 5
}
